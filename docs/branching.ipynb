{
 "cells": [
  {
   "cell_type": "markdown",
   "metadata": {},
   "source": [
    "## Branching\n",
    "\n",
    "1. You can create your own branch and track your changes. \n",
    "2. Your branch will be independent from other branches. \n",
    "3. You can merge your branch with others.\n",
    "\n",
    "![](images/intro11.png)\n",
    "\n",
    "* View the list of branches    "
   ]
  },
  {
   "cell_type": "code",
   "execution_count": null,
   "metadata": {},
   "outputs": [],
   "source": [
    "    $ git branch"
   ]
  },
  {
   "cell_type": "markdown",
   "metadata": {},
   "source": [
    "* Create a new branch   \n",
    "\n",
    "  ```unix\n",
    "  git branch <your_branch_name>\n",
    "  ```"
   ]
  },
  {
   "cell_type": "code",
   "execution_count": null,
   "metadata": {},
   "outputs": [],
   "source": [
    "    $ git branch sub1"
   ]
  },
  {
   "cell_type": "markdown",
   "metadata": {},
   "source": [
    "* Switch over to a new branch"
   ]
  },
  {
   "cell_type": "code",
   "execution_count": null,
   "metadata": {},
   "outputs": [],
   "source": [
    "    $ git checkout sub1"
   ]
  },
  {
   "cell_type": "markdown",
   "metadata": {},
   "source": [
    "   ![](images/intro8.png)\n",
    "    \n",
    "* Make changes to the files or add a new file"
   ]
  },
  {
   "cell_type": "code",
   "execution_count": null,
   "metadata": {},
   "outputs": [],
   "source": [
    "    $ git add readme.md\n",
    "    \n",
    "    $ git commit -m 'add'"
   ]
  },
  {
   "cell_type": "markdown",
   "metadata": {},
   "source": [
    "* After doing this, you may fix the identity used for this commit with:"
   ]
  },
  {
   "cell_type": "code",
   "execution_count": null,
   "metadata": {},
   "outputs": [],
   "source": [
    "    $ git commit --amend --reset-author"
   ]
  },
  {
   "cell_type": "markdown",
   "metadata": {},
   "source": [
    "* Push a file to the new branch"
   ]
  },
  {
   "cell_type": "code",
   "execution_count": null,
   "metadata": {},
   "outputs": [],
   "source": [
    "    $ git push origin sam1"
   ]
  },
  {
   "cell_type": "markdown",
   "metadata": {},
   "source": [
    "![](images/intro9.png)"
   ]
  },
  {
   "cell_type": "markdown",
   "metadata": {},
   "source": [
    "* Delete your branch"
   ]
  },
  {
   "cell_type": "code",
   "execution_count": null,
   "metadata": {},
   "outputs": [],
   "source": [
    "$ git branch -d <branchmane>"
   ]
  },
  {
   "cell_type": "markdown",
   "metadata": {},
   "source": [
    "* Merge branch"
   ]
  },
  {
   "cell_type": "code",
   "execution_count": null,
   "metadata": {},
   "outputs": [],
   "source": [
    "$ git merge <branch>"
   ]
  },
  {
   "cell_type": "markdown",
   "metadata": {},
   "source": [
    "### Merge Branch\n",
    "\n",
    "Merge can be used to integrate multiple trails of revisions.\n",
    "\n",
    "Examples:\n",
    "\n",
    "![](images/intro11.png)\n",
    "\n",
    "1. Merge when **master** branch (**B**) has no change (**fast-forward merge**): just move **bugfix** (**Y**) to **B** since **Y** contains all the version history.\n",
    "\n",
    "    ![](images/intro12.png)\n",
    "    \n",
    "    You can use **`non fast-forward`** option to create a new merge comit (**C**).\n",
    "    \n",
    "    ![](images/intro15.png)\n",
    "\n",
    "2. Merge when **B** has changes (Versions **C** and **D** of master branch):\n",
    "\n",
    "    ![](images/intro13.png)\n",
    "\n",
    "    In this example, a new merge comit will be created which contains all the changes from **D** and **Y**\n",
    "\n",
    "    ![](images/intro14.png)\n"
   ]
  },
  {
   "cell_type": "markdown",
   "metadata": {},
   "source": [
    "### Rebase\n",
    "\n",
    "Example:\n",
    "\n",
    "   ![](images/intro13.png)\n",
    "   \n",
    "   If **rebase** is used to merge branches, version history of **Y** will be created after master branch. If **X** and **Y**  have discrepancies, these need to be fixed.\n",
    "   \n",
    "\n",
    "   \n",
    "   ![](images/intro17.png)\n",
    "      \n",
    "   **D** will be in the same place unless **D** is merged with **Y'**, so you have to merge **D** and **Y**\n",
    "   \n",
    "   ![](images/intro18.png)  \n",
    "   \n",
    "   ![](images/intro16.png)"
   ]
  },
  {
   "cell_type": "markdown",
   "metadata": {},
   "source": [
    "## Git Branching Model\n",
    "\n",
    "[A successful Git branching model](http://nvie.com/posts/a-successful-git-branching-model/) is a good source for git branching model.\n",
    "\n",
    "It introduces 4 branches\n",
    "\n",
    "1. Main Branch\n",
    "    * master --- Reflects a production-ready state. Uses tag id (0.1, 0.2 etc) in commit to record the release #.\n",
    "    * develop --- Development branch --- uses rebase+merge\n",
    "2. Feature Branch --- a branch from develop branch. For development of new functions/debug\n",
    "3. Release Branch --- prep. for release --- uses merge to maser. record the release # in commit. It can be merged to develop branch for importing last minor changes\n",
    "4. Hotfix Branch --- use to address critial issues that need to be fixed quickly. Uses 'hotfix-' as the prefix for branch name\n",
    "\n",
    "   ![](images/intro19.png)"
   ]
  },
  {
   "cell_type": "markdown",
   "metadata": {},
   "source": []
  }
 ],
 "metadata": {
  "kernelspec": {
   "display_name": "Python 3",
   "language": "python",
   "name": "python3"
  },
  "language_info": {
   "codemirror_mode": {
    "name": "ipython",
    "version": 3
   },
   "file_extension": ".py",
   "mimetype": "text/x-python",
   "name": "python",
   "nbconvert_exporter": "python",
   "pygments_lexer": "ipython3",
   "version": "3.7.0"
  }
 },
 "nbformat": 4,
 "nbformat_minor": 2
}
