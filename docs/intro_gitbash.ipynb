{
 "cells": [
  {
   "cell_type": "markdown",
   "metadata": {},
   "source": [
    "# Short Introduction to GitHub"
   ]
  },
  {
   "cell_type": "markdown",
   "metadata": {},
   "source": [
    "This is the introduction of basic operations of [git bash](https://gitforwindows.org/).\n",
    "There are better resouces available from [git](https://github.com/git-for-windows/git/tree/master/Documentation) and [Pro Git book](https://git-scm.com/book/en/v2)"
   ]
  },
  {
   "cell_type": "markdown",
   "metadata": {},
   "source": [
    "## Basic Stuff\n",
    "\n",
    "* Create a local folder\n",
    "* Go to that folder from git\n",
    "\n",
    "     ![](images/intro1.png)\n",
    "* Initialize git in your local folder"
   ]
  },
  {
   "cell_type": "code",
   "execution_count": null,
   "metadata": {},
   "outputs": [],
   "source": [
    "    $ git init"
   ]
  },
  {
   "cell_type": "markdown",
   "metadata": {},
   "source": [
    "* Set remote so you can pull new objects from the repository\n",
    "    The syntax is `git remote add [shortname] [url] `\n",
    "    "
   ]
  },
  {
   "cell_type": "code",
   "execution_count": null,
   "metadata": {},
   "outputs": [],
   "source": [
    "    $ git remote add origin https://github.com/stomioka/sdtm_mapper.git"
   ]
  },
  {
   "cell_type": "markdown",
   "metadata": {},
   "source": [
    "    or if you are updating it<br>"
   ]
  },
  {
   "cell_type": "code",
   "execution_count": null,
   "metadata": {},
   "outputs": [],
   "source": [
    "    $ git remote set-url origin https://github.com/stomioka/sdtm_mapper.git "
   ]
  },
  {
   "cell_type": "markdown",
   "metadata": {},
   "source": [
    "* You can confirm your remote repository by<br>\n",
    "    "
   ]
  },
  {
   "cell_type": "code",
   "execution_count": null,
   "metadata": {},
   "outputs": [],
   "source": [
    "    $ git remote -v    "
   ]
  },
  {
   "cell_type": "markdown",
   "metadata": {},
   "source": [
    "   ![](images/intro2.png)\n",
    " \n",
    "* Get objects from master repository<br>\n",
    "    \n",
    "     You can clone it or pull.   \n",
    "     \n",
    "     If you are cloning, you don't need to use `git init`\n",
    "    "
   ]
  },
  {
   "cell_type": "code",
   "execution_count": null,
   "metadata": {},
   "outputs": [],
   "source": [
    "    $ git clone https://github.com/stomioka/sdtm_mapper\n",
    "    \n",
    "    $  git pull origin master"
   ]
  },
  {
   "cell_type": "markdown",
   "metadata": {},
   "source": [
    "   ![](images/intro3.png)\n",
    "     \n",
    "* You can edit, make updates to the objects locally\n",
    "\n",
    "* To see any updated objects\n",
    "\n",
    "    "
   ]
  },
  {
   "cell_type": "code",
   "execution_count": null,
   "metadata": {},
   "outputs": [],
   "source": [
    "    $ git status   "
   ]
  },
  {
   "cell_type": "markdown",
   "metadata": {},
   "source": [
    "  ![](images/intro4.png)\n",
    "     \n",
    "     In this example, word2vec_tfidf.ipynb has been updated\n",
    "     \n",
    "* Add files to be committed. You can specify the folder to add, then all files in the folder will be added.\n",
    "\n",
    "    "
   ]
  },
  {
   "cell_type": "code",
   "execution_count": null,
   "metadata": {},
   "outputs": [],
   "source": [
    "    $ git add word2vec_tfidf.ipynb    "
   ]
  },
  {
   "cell_type": "markdown",
   "metadata": {},
   "source": [
    "   ![](images/intro5.png)\n",
    "    \n",
    "* Commit. Git stores a commit object along with author's name and email address\n",
    "\n",
    "    "
   ]
  },
  {
   "cell_type": "code",
   "execution_count": null,
   "metadata": {},
   "outputs": [],
   "source": [
    "    $ git commit -m \"add\"    "
   ]
  },
  {
   "cell_type": "markdown",
   "metadata": {},
   "source": [
    "  ![](images/intro6.png)\n",
    "    \n",
    "* Push to the repository (in this case master)"
   ]
  },
  {
   "cell_type": "code",
   "execution_count": null,
   "metadata": {},
   "outputs": [],
   "source": [
    "    $ git push origin master"
   ]
  },
  {
   "cell_type": "markdown",
   "metadata": {},
   "source": [
    "   ![](images/intro7.png)\n",
    "    \n",
    "* If you need to **delete** a file,"
   ]
  },
  {
   "cell_type": "code",
   "execution_count": null,
   "metadata": {},
   "outputs": [],
   "source": [
    "    $ git rm your_file.txt\n",
    "\n",
    "    $ git commit -m 'remove'\n",
    "    \n",
    "    $ git push origin master"
   ]
  },
  {
   "cell_type": "markdown",
   "metadata": {},
   "source": [
    "\n",
    "\n",
    "Next topic: [Branching](branching.ipynb)"
   ]
  }
 ],
 "metadata": {
  "kernelspec": {
   "display_name": "Python 3",
   "language": "python",
   "name": "python3"
  },
  "language_info": {
   "codemirror_mode": {
    "name": "ipython",
    "version": 3
   },
   "file_extension": ".py",
   "mimetype": "text/x-python",
   "name": "python",
   "nbconvert_exporter": "python",
   "pygments_lexer": "ipython3",
   "version": "3.7.0"
  }
 },
 "nbformat": 4,
 "nbformat_minor": 2
}
