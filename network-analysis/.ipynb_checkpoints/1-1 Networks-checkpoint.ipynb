{
 "cells": [
  {
   "cell_type": "markdown",
   "metadata": {},
   "source": [
    "# Networks\n",
    "\n",
    "![](images/network1.png)\n",
    "\n",
    "## Social Newtorks\n",
    "\n",
    "* Nodes = People\n",
    "* Edges = Relationship\n",
    "\n",
    "![](images/network2.png)\n",
    "\n",
    "## Transportation and mobility networks\n",
    "\n",
    "\n",
    "![](images/network3.png)"
   ]
  },
  {
   "cell_type": "code",
   "execution_count": null,
   "metadata": {},
   "outputs": [],
   "source": []
  }
 ],
 "metadata": {
  "kernelspec": {
   "display_name": "Python 3",
   "language": "python",
   "name": "python3"
  },
  "language_info": {
   "codemirror_mode": {
    "name": "ipython",
    "version": 3
   },
   "file_extension": ".py",
   "mimetype": "text/x-python",
   "name": "python",
   "nbconvert_exporter": "python",
   "pygments_lexer": "ipython3",
   "version": "3.6.6"
  }
 },
 "nbformat": 4,
 "nbformat_minor": 2
}
