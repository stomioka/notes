{
 "cells": [
  {
   "cell_type": "markdown",
   "metadata": {},
   "source": [
    "# Distance Measure\n",
    "\n",
    "* How far nodes are away from each other.\n",
    "* How far is node A from node H? \n",
    "* Are some nodes far away from each other and other nodes close to each other in general in this network? \n",
    "* Which nodes are closest and which nodes are the furthest away from each other in the network?\n",
    "\n",
    "## Paths\n",
    "\n",
    "* **Path:** A sequence of nodes connected by an edge\n",
    "\n",
    "![](images/distance1.png)\n",
    "\n",
    "**Find two paths from node G to node C**\n",
    "\n",
    "* G - F - C\n",
    "* G - F - E - C\n",
    "\n",
    "**How far is node A from node H?**\n",
    "\n",
    "* A - B - C - E - H (4 'hops') -> length of 4\n",
    "* A - B - C - F - E - H (5-'hops') -> Length of 5\n",
    "\n",
    "**Path length:** Number of steps it contains from beginning to end.\n",
    "\n",
    "**Distance between two nodes:** the length of the shorted path between them\n",
    "\n",
    "The distance between node A and H is 4\n",
    "\n",
    "`nx.shortest_path(G,'A','H')`"
   ]
  },
  {
   "cell_type": "code",
   "execution_count": null,
   "metadata": {},
   "outputs": [],
   "source": []
  }
 ],
 "metadata": {
  "kernelspec": {
   "display_name": "Python 3",
   "language": "python",
   "name": "python3"
  },
  "language_info": {
   "codemirror_mode": {
    "name": "ipython",
    "version": 3
   },
   "file_extension": ".py",
   "mimetype": "text/x-python",
   "name": "python",
   "nbconvert_exporter": "python",
   "pygments_lexer": "ipython3",
   "version": "3.6.6"
  }
 },
 "nbformat": 4,
 "nbformat_minor": 2
}
