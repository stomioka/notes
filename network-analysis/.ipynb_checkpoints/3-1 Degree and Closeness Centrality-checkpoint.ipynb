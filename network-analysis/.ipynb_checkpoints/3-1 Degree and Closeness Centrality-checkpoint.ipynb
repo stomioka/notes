{
 "cells": [
  {
   "cell_type": "markdown",
   "metadata": {},
   "source": [
    "# Degree and Closeness Centrality\n",
    "\n",
    "\n"
   ]
  },
  {
   "cell_type": "markdown",
   "metadata": {},
   "source": [
    "## Node Importance\n",
    "![](images/3-1.png)"
   ]
  },
  {
   "cell_type": "markdown",
   "metadata": {},
   "source": [
    "### Different ways of thinking about \"importance\"\n",
    "\n",
    "* Degree: Number of friends\n",
    "5 most important nodes are: 34, 1, 33, 3, 2\n",
    "\n",
    "* Average proximity to other nodes.\n",
    "5 most important nodes are:\n",
    "1, 3, 34, 32, 9\n",
    "\n",
    "* Fraction of shortest paths that pass through node.\n",
    "5 most imporant nodes are 1, 34, 22, 3, 32\n",
    "\n",
    "### Network Centrality\n",
    "\n",
    "Centrality measures identify the most important nodes in a network:\n",
    "* Influential nodes in a social network\n",
    "* Nodes that disseminate information to many nodes or prevent epidemics\n",
    "* Hubs in a transportation network\n",
    "* Importnat pages on the Web\n",
    "* Nodes that prevent the network from breaking up\n",
    "\n",
    "### Centrality Measures\n",
    "\n",
    "* Degree centrality\n",
    "* Closeness Centrality\n",
    "* Betweenness centrality\n",
    "* Load centrality\n",
    "* Page Rank\n",
    "* Katz centrality\n",
    "* Percolation centrality\n",
    "\n",
    "### Degree Centrality\n",
    "\n",
    "**Assumption**: Important nodes have many connections\n",
    "\n",
    "The most basic measure of centrality: number of neighbors.\n",
    "\n",
    "**Undirected networks**: use degree \n",
    "\n",
    "**Directed networks**: use in-degree or out-degree or combination\n",
    "\n",
    "### Degree Centrality - Undirected Networks\n",
    "\n",
    "$C_{deg}(v)=\\frac{d_v}{|N|-1}$, where *N* is the set of nodes in the network and $d_v$ is the degree of node $v$.\n",
    "\n",
    "If a node is connected to every single nodes in the network, the $C_{deg}$ = 1. If not connected to any nodes in the network, the  $C_{deg}$ = 0.\n"
   ]
  },
  {
   "cell_type": "code",
   "execution_count": 4,
   "metadata": {},
   "outputs": [
    {
     "data": {
      "text/plain": [
       "0.5151515151515151"
      ]
     },
     "execution_count": 4,
     "metadata": {},
     "output_type": "execute_result"
    }
   ],
   "source": [
    "import networkx as nx\n",
    "\n",
    "G=nx.karate_club_graph()\n",
    "G=nx.convert_node_labels_to_integers(G,first_label=1)\n",
    "degCent=nx.degree_centrality(G)\n",
    "degCent[34]"
   ]
  },
  {
   "cell_type": "markdown",
   "metadata": {},
   "source": [
    "17 connections and 33 total nodes"
   ]
  },
  {
   "cell_type": "markdown",
   "metadata": {},
   "source": [
    "### Degree Centrality - In-Directed Networks\n",
    "\n",
    "$C_{indeg}(v)=\\frac{d^{in}_v}{|N|-1}$, where *N* is the set of nodes in the network and ${d^{in}_v}$ is the in-degree of node $v$.\n"
   ]
  },
  {
   "cell_type": "code",
   "execution_count": null,
   "metadata": {},
   "outputs": [],
   "source": [
    "indegCent = nx.in_degree_centrality(G)\n",
    "indegCent['A']"
   ]
  },
  {
   "cell_type": "markdown",
   "metadata": {},
   "source": [
    "### Degree Centrality - Directed Networks\n",
    "\n",
    "$C_{indeg}(v)=\\frac{d^{out}_v}{|N|-1}$, where *N* is the set of nodes in the network and ${d^{out}_v}$ is the in-degree of node $v$."
   ]
  },
  {
   "cell_type": "code",
   "execution_count": null,
   "metadata": {},
   "outputs": [],
   "source": [
    "outdegCent = nx.out_degree_centrality(G)\n",
    "outdegCent['A']"
   ]
  },
  {
   "cell_type": "markdown",
   "metadata": {},
   "source": [
    "### Closeness Centrality\n",
    "\n",
    "**Assumption**: important nodes are close to other nodes. measure distance between two nodes by looking at the shortest path, the length of the shortest path between them.\n",
    "\n",
    "\n",
    "$$C_{close}(v)=\\frac{|N|-1}{\\frac{\\sum_{u\\in N}}{[v]^{d(v,u)}}}$$\n",
    "\n",
    "the closeness centrality of node V is going to be by taking the ratio of the number of nodes in the network minus one divided by the sum over all the other nodes in the network, and the distance between node V and those nodes. So, that's the sum and the denominator in the definition of centrality.\n",
    "\n",
    "d(v,u) - length of shortest path from v to u"
   ]
  },
  {
   "cell_type": "code",
   "execution_count": null,
   "metadata": {},
   "outputs": [],
   "source": []
  }
 ],
 "metadata": {
  "kernelspec": {
   "display_name": "Python 3",
   "language": "python",
   "name": "python3"
  },
  "language_info": {
   "codemirror_mode": {
    "name": "ipython",
    "version": 3
   },
   "file_extension": ".py",
   "mimetype": "text/x-python",
   "name": "python",
   "nbconvert_exporter": "python",
   "pygments_lexer": "ipython3",
   "version": "3.6.6"
  }
 },
 "nbformat": 4,
 "nbformat_minor": 2
}
