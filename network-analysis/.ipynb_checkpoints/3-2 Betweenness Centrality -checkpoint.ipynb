{
 "cells": [
  {
   "cell_type": "markdown",
   "metadata": {},
   "source": [
    "# Betweeness Centrality\n",
    "\n",
    "**Assumption** important nodes connect other nodes\n",
    "\n",
    "Recall: the distance between two nodes is the length of the shortest path between them\n",
    "\n",
    "\n",
    "Example: The distance between nodes 34 and 2 is 2:\n",
    "Path 1: 34-31-2\n",
    "Path 2: 34-14-2\n",
    "Path 3: 34-20-2\n",
    "\n",
    "Nodes 31, 14, and 20 are in a shortest path of between nodes 34 and 2\n",
    "\n",
    "$$C_{btw}(v)=\\sum_{s,t \\in N}\\frac{\\sigma_{s,t}(v)}{\\sigma_{s,t}}$$\n",
    "\n",
    "* $\\sigma_{s,t}$ is going to be the number of shortest paths between nodes s, t\n",
    "* ${\\sigma_{s,t}(v)}$ is how many of those shortest paths actually contain node v between nodes s, t\n",
    "\n",
    "![](images/3-2.2.png)\n",
    "\n",
    "**Endpoints:** we can wither include or exclude node $v$ as node $s$ and $t$ in the computation of $C_{btw}(v)$\n",
    "\n",
    "* If we exclude node $v$ in this case node B\n",
    "\n",
    "![](images/3-2.3.png)\n",
    "\n",
    "$C_{btw}(B) = \\frac{\\sigma_{A,D}(B)}{\\sigma_{A,D}} + \\frac{\\sigma_{A,C}(B)}{\\sigma_{A,C}} + \\frac{\\sigma_{C,D}(B)}{\\sigma_{C,D}} = \\frac{1}{1} + \\frac{1}{1} + \\frac{0}{1} =2 $\n",
    "\n",
    "![](images/3-2.4.png)\n",
    "\n",
    "The number of shortest path between A and D is 1, and the shortest path contains 1 B\n",
    "\n",
    "![](images/3-2.5.png)\n",
    "\n",
    "![](images/3-2.6.png)\n",
    "\n",
    "* If we include node $v$ in this case node B\n",
    "\n",
    "![](images/3-2.7.png)\n",
    "\n",
    "![](images/3-2.8.png)\n"
   ]
  },
  {
   "cell_type": "markdown",
   "metadata": {},
   "source": [
    "## Disconnected Nodes\n",
    "\n",
    "* **Assumption:** important nodes connect other nodes\n",
    "\n",
    "$C_{btw}(v) = \\sum_{s,t\\in N}\\frac{\\sigma_{s,t}(v)}{\\sigma_{s,t}}$\n",
    "\n",
    "What if not all nodes can reach each other?\n",
    "\n",
    "![](images/3-2.9.png)\n",
    "\n",
    "Node D cannot be reached by any other node in the above example, hence, $\\sigma_{A,D} =0 $, making the above definition undefined.\n",
    "\n",
    "**Example**: What is the betweenness centrality of node B, without including it as endpoint?\n",
    "\n",
    "\n",
    "![](images/3-2.10.png)\n",
    "\n",
    "\n",
    "![](images/3-2.11.png)"
   ]
  },
  {
   "cell_type": "markdown",
   "metadata": {},
   "source": [
    "### Normalization\n",
    "\n",
    "* **Assumption:** important nodes connect other nodes.\n",
    "\n",
    "\n",
    "$C_{btw}(v) = \\sum_{s,t\\in N}\\frac{\\sigma_{s,t}(v)}{\\sigma_{s,t}}$\n",
    "\n",
    "* **Normalization**: betwenness centrality values will be larger in graphs with many nodes. To control for this, we divide centrality values by the number of pairs of nodes in the graph (excluding v):\n",
    "\n",
    "* $\\frac{1}{2}(|N|-1)(|N|-2)$ in undirected graphs\n",
    "\n",
    "* $(|N|-1)(|N|-2)$ in directed graphs\n",
    "\n",
    "\n",
    "![](images/3-2.12.png)\n",
    "\n"
   ]
  },
  {
   "cell_type": "code",
   "execution_count": null,
   "metadata": {},
   "outputs": [],
   "source": [
    "btwmCent=nx.beteenness_centrality(G, normalized=True, endpoint=False)"
   ]
  },
  {
   "cell_type": "code",
   "execution_count": null,
   "metadata": {},
   "outputs": [],
   "source": []
  }
 ],
 "metadata": {
  "kernelspec": {
   "display_name": "Python 3",
   "language": "python",
   "name": "python3"
  },
  "language_info": {
   "name": ""
  }
 },
 "nbformat": 4,
 "nbformat_minor": 2
}
