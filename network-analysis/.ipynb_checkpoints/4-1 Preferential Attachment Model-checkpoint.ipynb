{
 "cells": [
  {
   "cell_type": "markdown",
   "metadata": {},
   "source": [
    "# Preferential Attachment Model\n",
    "\n",
    "## Degree Distribution\n",
    "\n",
    "The **degree** of a node in an undirected graph is the number of neighbours it has.\n",
    "\n",
    "![](images/4-1.1.png)\n",
    "\n",
    "The **degree distribution** of a graph is the probability distribution of the degrees over the entire network.\n",
    "The degree distribution, $P(k)$, of this network has the following values:\n",
    "\n",
    "$P(1)=\\frac{1}{9}, P(2)=\\frac{4}{9}, P(3)=\\frac{1}{3}, P(4)=\\frac{1}{9}$"
   ]
  },
  {
   "cell_type": "markdown",
   "metadata": {},
   "source": [
    "### Plot of the degree distribution of this network"
   ]
  },
  {
   "cell_type": "code",
   "execution_count": 5,
   "metadata": {},
   "outputs": [],
   "source": [
    "import networkx as nx\n",
    "import matplotlib as plt\n",
    "%matplotlib widget\n",
    "\n",
    "G = nx.Graph()"
   ]
  },
  {
   "cell_type": "markdown",
   "metadata": {},
   "source": [
    "**add node/edge pairs**"
   ]
  },
  {
   "cell_type": "code",
   "execution_count": 7,
   "metadata": {},
   "outputs": [
    {
     "data": {
      "application/vnd.jupyter.widget-view+json": {
       "model_id": "f928d73b18674d23a9656d7813826c20",
       "version_major": 2,
       "version_minor": 0
      },
      "text/plain": [
       "FigureCanvasNbAgg()"
      ]
     },
     "metadata": {},
     "output_type": "display_data"
    }
   ],
   "source": [
    "G.add_edges_from([('A','B'),('A','G'),('A','H'),('B','C'),('C','D'),('C','E'),('D','F'),('F','G'),('F','I'),('G','I'),('G','H')])\n",
    "pos = nx.spring_layout(G)\n",
    "nx.draw_networkx(G,pos)"
   ]
  },
  {
   "cell_type": "code",
   "execution_count": 10,
   "metadata": {},
   "outputs": [
    {
     "data": {
      "text/plain": [
       "{'A': 3, 'B': 2, 'G': 4, 'H': 2, 'C': 3, 'D': 2, 'E': 1, 'F': 3, 'I': 2}"
      ]
     },
     "execution_count": 10,
     "metadata": {},
     "output_type": "execute_result"
    }
   ],
   "source": [
    "degrees=G.degree()\n",
    "dict(degrees)"
   ]
  },
  {
   "cell_type": "code",
   "execution_count": 18,
   "metadata": {},
   "outputs": [
    {
     "data": {
      "application/vnd.jupyter.widget-view+json": {
       "model_id": "617b6b6de54f42d38e0a868c1ac0e734",
       "version_major": 2,
       "version_minor": 0
      },
      "text/plain": [
       "FigureCanvasNbAgg()"
      ]
     },
     "metadata": {},
     "output_type": "display_data"
    }
   ],
   "source": [
    "import matplotlib.pyplot as plt2\n",
    "\n",
    "degrees=G.degree()\n",
    "degree_values=sorted(set(dict(degrees).values()))\n",
    "histogram=[list(dict(degrees).values()).count(i)/float(nx.number_of_nodes(G)) for i in degree_values]\n",
    "plt2.figure(figsize=(8,8))\n",
    "plt2.bar(degree_values, histogram)\n",
    "plt2.xlabel('Degree')\n",
    "plt2.ylabel('Fraction of Nodes')\n",
    "plt2.show()"
   ]
  },
  {
   "cell_type": "markdown",
   "metadata": {},
   "source": [
    "## In Degree Distribution\n",
    "\n",
    "The **in degree** of a node in an directed graph is the number of in-links it has.\n",
    "\n",
    "![](images/4-1.1.png)\n",
    "\n",
    "The **in-degree distribution**, $P(k)$, of this network has the following values:\n",
    "\n",
    "$P(0)=\\frac{2}{9}, P(1)=\\frac{4}{9}, P(2)=\\frac{2}{9}, P(3)=\\frac{1}{9}$"
   ]
  },
  {
   "cell_type": "code",
   "execution_count": 20,
   "metadata": {},
   "outputs": [
    {
     "data": {
      "application/vnd.jupyter.widget-view+json": {
       "model_id": "17fc0fd84a3e4a899d90933f94cb39a9",
       "version_major": 2,
       "version_minor": 0
      },
      "text/plain": [
       "FigureCanvasNbAgg()"
      ]
     },
     "metadata": {},
     "output_type": "display_data"
    }
   ],
   "source": [
    "G1=nx.DiGraph()\n",
    "G1.add_edges_from([('B','A'),('C','B'),('D','C'),('E','C'),('F','I'),('F','D'),('G','A'),('G','F'),('G','I'),('H','A'),('H','G')])\n",
    "pos = nx.spring_layout(G1)\n",
    "plt2.figure()\n",
    "nx.draw_networkx(G1,pos)"
   ]
  },
  {
   "cell_type": "code",
   "execution_count": 22,
   "metadata": {},
   "outputs": [
    {
     "data": {
      "application/vnd.jupyter.widget-view+json": {
       "model_id": "892119c59dae4911924a8111ec44cea9",
       "version_major": 2,
       "version_minor": 0
      },
      "text/plain": [
       "FigureCanvasNbAgg()"
      ]
     },
     "metadata": {},
     "output_type": "display_data"
    }
   ],
   "source": [
    "indegrees=G1.in_degree()\n",
    "indegree_values=sorted(set(dict(indegrees).values()))\n",
    "histogram=[list(dict(indegrees).values()).count(i)/float(nx.number_of_nodes(G)) for i in indegree_values]\n",
    "plt2.figure(figsize=(8,8))\n",
    "plt2.bar(indegree_values, histogram)\n",
    "plt2.xlabel('In Degree')\n",
    "plt2.ylabel('Fraction of Nodes')\n",
    "plt2.show()"
   ]
  },
  {
   "cell_type": "code",
   "execution_count": null,
   "metadata": {},
   "outputs": [],
   "source": []
  }
 ],
 "metadata": {
  "kernelspec": {
   "display_name": "Python 3",
   "language": "python",
   "name": "python3"
  },
  "language_info": {
   "codemirror_mode": {
    "name": "ipython",
    "version": 3
   },
   "file_extension": ".py",
   "mimetype": "text/x-python",
   "name": "python",
   "nbconvert_exporter": "python",
   "pygments_lexer": "ipython3",
   "version": "3.6.6"
  }
 },
 "nbformat": 4,
 "nbformat_minor": 2
}
