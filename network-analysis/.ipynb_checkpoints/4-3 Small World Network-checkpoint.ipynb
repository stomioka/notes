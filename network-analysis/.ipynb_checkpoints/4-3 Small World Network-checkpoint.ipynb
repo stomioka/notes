{
 "cells": [
  {
   "cell_type": "markdown",
   "metadata": {},
   "source": [
    "# Small World Network\n",
    "\n",
    "## The Small World Phenopmenon\n",
    "\n",
    "* The world is small in the sense that \"short\" paths exists between almost any two people.\n",
    "* How short are tehse paths?\n",
    "* How can we measure their length?\n",
    "\n",
    "\n",
    "## Milgram Small World Experiment\n",
    "\n",
    "Set up ion 1960s\n",
    "\n",
    "* 296 randomly chosen 'starters' asked to forward a letter to a 'target' person\n",
    "* target was a stock broker in Boston\n",
    "* Instructions for starter:\n",
    "   * send letter to target if you know him on a first name basis\n",
    "   * if you do not know target, send letter and instructions to someone you know on a first name basis who is more likely to know the target\n",
    "* Some information about the target, such as city, and occupation, was provided.\n",
    "\n",
    "#### Results:\n",
    "\n",
    "* 64 out of the 296 letters reached the target.\n",
    "* median chain length was 6 (consistent with the phrase \"six degrees of separation')\n",
    "\n",
    "**Key Points**\n",
    "\n",
    "* A relatively large percentage (>20%) of letters reached target.\n",
    "* Paths were relatively short.\n",
    "* People were able to find these short paths.\n",
    "\n",
    "\n",
    "![](images/4-3.1.png)"
   ]
  },
  {
   "cell_type": "markdown",
   "metadata": {},
   "source": [
    "## Small world of instant message\n",
    "\n",
    "* Nodes: 240 million active users on Microsoft Instant Messenger\n",
    "* Edges: Users engaged in two -way communciaiton over a one-month period.\n",
    "* Estimated median path length of 7.\n",
    "\n",
    "![](images/4-3.2.png)\n",
    "\n",
    "## Small World of Facebook\n",
    "\n",
    "![](images/4-3.3.png)\n",
    "\n",
    "* Global network: average path lengh in 2008 was **5.28** and in 2011 it was **4.74**\n",
    "* Path are even shorter if network is restricted to US only.\n",
    "\n",
    "## Clustering Coefficient\n",
    "\n",
    "**Local clustering coefficient of a node:**\n",
    "\n",
    "The local clustering coefficient of a node is the fraction of pairs of the node's friends that are friends with each other. It's roughly talks about, are there lots of triangles are not? And when we take the average local clustering coefficient of all the nodes.\n",
    "\n",
    "* Facebook 2011: High average CC (decreases with degree)\n",
    "* MIcrosoft Instant Message: Average CC of 0.13\n",
    "* IMDB actor network: Average CC 0.78\n",
    "\n",
    "IN a random graph, the average clustering coefficient would be much smaller.\n",
    "\n",
    "* social networks tend to have a high clustering coefficient and two, they tend to have small average path length.\n",
    "\n",
    "![](images/4-3.4.png)\n",
    "\n",
    "## Path Length and Clustering\n",
    "\n",
    "* Social networks tend to have high clustering coefficient and small average path length\n",
    "* Can we think of a network generative mdoel that has these two properties?\n",
    "\n",
    "* How about the Preferential Attachment Model?\n",
    "\n"
   ]
  },
  {
   "cell_type": "code",
   "execution_count": 4,
   "metadata": {},
   "outputs": [
    {
     "name": "stdout",
     "output_type": "stream",
     "text": [
      "average CC: 0.03421348054868503\n",
      "shortest path: 3.1736976976976976\n"
     ]
    }
   ],
   "source": [
    "import networkx as nx\n",
    "G=nx.barabasi_albert_graph(1000,4)\n",
    "print(\"average CC:\" , nx.average_clustering(G))\n",
    "print(\"shortest path:\" , nx.average_shortest_path_length(G))"
   ]
  },
  {
   "cell_type": "markdown",
   "metadata": {},
   "source": [
    "Above has small average CC\n",
    "\n",
    "What if we vary the number of nodes (n) of the number of edges per new node (m)?\n",
    "\n",
    "![](images/4-3.5.png)"
   ]
  },
  {
   "cell_type": "markdown",
   "metadata": {},
   "source": [
    "* Small average shortest path: high degree nodes act as hubs and connect many paiurs of nodes\n",
    "* For a fixed m, clustering coefficient becomes very small as the number of nodes increases\n",
    "* No mechanism in the Preferential Attachment model favors triangle formation.\n",
    "\n",
    "## Small World Model\n",
    "\n",
    "**Motivation**: Real networks exhibit high clustering coefficient and small average shortest paths. Can we think of a model that achieves both of these properties?\n",
    "\n",
    "small-world model:\n",
    "\n",
    "* Start with a ring of n nodes, where each node is connected to its k nearest neighbors\n",
    "* Fix a parameter $p \\in [0,1]$\n",
    "* Consider each edge $(u,v)$. WIth probability $p$, select a node $w$ at random and reqire the edge $(u,v)$ so it becomes  $(u,w)$ `\n",
    "\n",
    "**Example**\n",
    "\n",
    "k=2, p=0.4\n",
    "\n"
   ]
  },
  {
   "cell_type": "code",
   "execution_count": 25,
   "metadata": {},
   "outputs": [
    {
     "data": {
      "application/vnd.jupyter.widget-view+json": {
       "model_id": "bea3b563158445e3ab4f43d186e85a84",
       "version_major": 2,
       "version_minor": 0
      },
      "text/plain": [
       "FigureCanvasNbAgg()"
      ]
     },
     "metadata": {},
     "output_type": "display_data"
    }
   ],
   "source": [
    "%matplotlib widget\n",
    "import matplotlib.pyplot as plt\n",
    "plt.figure(1)\n",
    "G=nx.Graph()\n",
    "G.add_edges_from([('A','B'),('B','C'),('C','D'),('D','E'),('E','F'),('F','G'),('G','H'),('H','I'),('I','J'),('J','K'),('K','L'),('L','A')])\n",
    "pos = nx.spring_layout(G)\n",
    "nx.draw_networkx(G, pos)                    "
   ]
  },
  {
   "cell_type": "code",
   "execution_count": 26,
   "metadata": {},
   "outputs": [
    {
     "data": {
      "application/vnd.jupyter.widget-view+json": {
       "model_id": "5a780095ea1643c4a6e31fe35229642d",
       "version_major": 2,
       "version_minor": 0
      },
      "text/plain": [
       "FigureCanvasNbAgg()"
      ]
     },
     "metadata": {},
     "output_type": "display_data"
    }
   ],
   "source": [
    "plt.figure(2)\n",
    "G1=nx.Graph()\n",
    "G1.add_edges_from([('A','B'),('B','C'),('C','D'),('D','E'),('E','F'),('F','G'),('G','H'),('H','I'),('I','J'),('G','K'),('K','L'),('L','A')])\n",
    "pos = nx.spring_layout(G1)\n",
    "nx.draw_networkx(G1, pos) "
   ]
  },
  {
   "cell_type": "code",
   "execution_count": 27,
   "metadata": {},
   "outputs": [
    {
     "data": {
      "application/vnd.jupyter.widget-view+json": {
       "model_id": "01a9056aacc7437fb46a58c6d796d569",
       "version_major": 2,
       "version_minor": 0
      },
      "text/plain": [
       "FigureCanvasNbAgg()"
      ]
     },
     "metadata": {},
     "output_type": "display_data"
    }
   ],
   "source": [
    "plt.figure(3)\n",
    "G1=nx.Graph()\n",
    "G1.add_edges_from([('A','B'),('B','C'),('C','D'),('D','E'),('E','F'),('F','G'),('G','H'),('B','I'),('I','J'),('G','K'),('K','L'),('L','A')])\n",
    "pos = nx.spring_layout(G1)\n",
    "nx.draw_networkx(G1, pos) "
   ]
  },
  {
   "cell_type": "code",
   "execution_count": 28,
   "metadata": {},
   "outputs": [
    {
     "data": {
      "application/vnd.jupyter.widget-view+json": {
       "model_id": "058926ec36a74936b875035719e4fe6a",
       "version_major": 2,
       "version_minor": 0
      },
      "text/plain": [
       "FigureCanvasNbAgg()"
      ]
     },
     "metadata": {},
     "output_type": "display_data"
    }
   ],
   "source": [
    "plt.figure(4)\n",
    "G1=nx.Graph()\n",
    "G1.add_edges_from([('A','B'),('B','C'),('C','D'),('D','E'),('J','F'),('F','G'),('G','H'),('H','I'),('I','J'),('G','K'),('K','L'),('L','A')])\n",
    "pos = nx.spring_layout(G1)\n",
    "nx.draw_networkx(G1, pos) "
   ]
  },
  {
   "cell_type": "code",
   "execution_count": 29,
   "metadata": {},
   "outputs": [
    {
     "data": {
      "application/vnd.jupyter.widget-view+json": {
       "model_id": "94759359310049b4a2265236276b3e45",
       "version_major": 2,
       "version_minor": 0
      },
      "text/plain": [
       "FigureCanvasNbAgg()"
      ]
     },
     "metadata": {},
     "output_type": "display_data"
    }
   ],
   "source": [
    "plt.figure(5)\n",
    "G1=nx.Graph()\n",
    "G1.add_edges_from([('A','B'),('B','C'),('H','D'),('D','E'),('J','F'),('F','G'),('G','H'),('H','I'),('I','J'),('G','K'),('K','L'),('L','A')])\n",
    "pos = nx.spring_layout(G1)\n",
    "nx.draw_networkx(G1, pos) "
   ]
  },
  {
   "cell_type": "markdown",
   "metadata": {},
   "source": [
    "Rewire"
   ]
  },
  {
   "cell_type": "code",
   "execution_count": null,
   "metadata": {},
   "outputs": [],
   "source": [
    "plt.figure(4)\n",
    "G1=nx.Graph()\n",
    "G1.add_edges_from([('A','B'),('J','C'),('C','D'),('D','E'),('J','F'),('F','G'),('G','H'),('H','I'),('I','J'),('G','K'),('K','L'),('L','A')])\n",
    "pos = nx.spring_layout(G1)\n",
    "nx.draw_networkx(G1, pos) "
   ]
  },
  {
   "cell_type": "markdown",
   "metadata": {},
   "source": [
    "## Small World Model\n",
    "\n",
    "![](images/4-3.6.png)\n",
    "\n",
    "**Regular Lattice** (p=0): no edge is rewired.\n",
    "\n",
    "**Random Network** (p=1): all edges are rewired.\n",
    "\n",
    "**Small World Network**: (0 < p < 1) some edges are rewired. Network conservers some local structure but has some randomness.\n",
    "\n",
    "![](images/4-3.7.png)\n",
    "\n",
    "What is teh average clustering coefficient and shortest path of a small wor;d network?\n",
    "\n",
    "It depends on parameters $k$ and $p$.\n",
    "\n",
    "As $p$ increases from 0 to 0.01:\n",
    "\n",
    "* Average shortest path decreases rapidly.\n",
    "* Average clustering coefficient decreases slowly\n",
    "\n",
    "An instance of a network of 1000 nodes, k=6, and p=0.04 has\n",
    "\n",
    "* 8.99 average shortest path.\n",
    "* 0.53 average clustering coefficient.\n",
    "\n",
    "\n",
    "## Small World Model in NetworkX\n",
    "\n",
    "`watts_strogatz_graph(n,k,p)` returns a small world network with n nodes, starting with a lattice with each node connected to its k nearest neighbors, and rewiring probability p.\n",
    "\n"
   ]
  },
  {
   "cell_type": "code",
   "execution_count": 30,
   "metadata": {},
   "outputs": [
    {
     "data": {
      "application/vnd.jupyter.widget-view+json": {
       "model_id": "d1d833c09c774022b927a154354c4be9",
       "version_major": 2,
       "version_minor": 0
      },
      "text/plain": [
       "FigureCanvasNbAgg()"
      ]
     },
     "metadata": {},
     "output_type": "display_data"
    }
   ],
   "source": [
    "G=nx.watts_strogatz_graph(1000,k=6,p=0.04)\n",
    "degrees=G.degree()\n",
    "degree_values=sorted(set(dict(degrees).values()))\n",
    "histogram=[list(dict(degrees).values()).count(i)/float(nx.number_of_nodes(G)) for i in degree_values]\n",
    "plt.figure(figsize=(8,8))\n",
    "plt.bar(degree_values, histogram)\n",
    "plt.xlabel('Degree')\n",
    "plt.ylabel('Fraction of Nodes')\n",
    "plt.show()"
   ]
  },
  {
   "cell_type": "markdown",
   "metadata": {},
   "source": [
    "The rewiring probabilities is very small so most of the edges aren't going to be rewired. So most of the nodes are going to stay with their degree of 6 that they had in the beginning when the ring was first formed. And because there's no mechanism that sort of makes some nodes accumulate a very large degree, then none of them do.\n",
    "\n",
    "* No power law degree distribution.\n",
    "* SInce most edges are not reqired, most nodes have degree of 6.\n",
    "* Since deges are reqired uniformly at random, no node accumulated very high degree, like in the preferential attachment model\n",
    "\n",
    "Variants of the small world model in NetworkX:\n",
    "\n",
    "* Small wor;d networks can be disconnected, whith is sometime undesirable.\n",
    "\n",
    "`connected_watts_strogatz_graph (n, k, p, t)` runs `watts_strogatz_graph(n,k,p)` up to t times, until it returns a connected small wor;d network.\n",
    "\n",
    "* `newman_watts_strogatz_graph(n,k,p)` runs a model similar to the small world model, but rather than reqiring edges, new edges are added with probability $p$"
   ]
  },
  {
   "cell_type": "markdown",
   "metadata": {},
   "source": [
    "# Summary\n",
    "\n",
    "* Real social networks appear to have small shortest paths between nodes and high clustering coefficient.\n",
    "* The preferential attachment model produces networks with small shortest paths but very small clustering coefficient\n",
    "* The small world most starts with a ring lattice with nodes connected to k nearest neighbors (high local clustering), and it reqires edges with probability p.\n",
    "* For small values of p, small world networks have small averageshortest path and high clustering coefficient, matching what we observe in real networks.\n",
    "* However, the degree distribution of small world network is not a power law.\n",
    "* On NetworkX, you can use `watts_stogatz_graph(n, K, P)` and other variants to produce small world networks.\n"
   ]
  },
  {
   "cell_type": "code",
   "execution_count": null,
   "metadata": {},
   "outputs": [],
   "source": []
  }
 ],
 "metadata": {
  "kernelspec": {
   "display_name": "Python 3",
   "language": "python",
   "name": "python3"
  },
  "language_info": {
   "codemirror_mode": {
    "name": "ipython",
    "version": 3
   },
   "file_extension": ".py",
   "mimetype": "text/x-python",
   "name": "python",
   "nbconvert_exporter": "python",
   "pygments_lexer": "ipython3",
   "version": "3.6.6"
  }
 },
 "nbformat": 4,
 "nbformat_minor": 2
}
