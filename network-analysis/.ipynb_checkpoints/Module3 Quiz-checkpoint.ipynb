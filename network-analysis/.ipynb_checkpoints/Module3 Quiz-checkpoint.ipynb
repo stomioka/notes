{
 "cells": [
  {
   "cell_type": "markdown",
   "metadata": {},
   "source": [
    "# Question 1\n",
    "\n",
    "Based on the network below, what is the degree centrality of node D?\n",
    "\n",
    "![](images/q3-1.png)\n"
   ]
  },
  {
   "cell_type": "markdown",
   "metadata": {},
   "source": [
    "$C_{deg}(v)=\\frac{d_v}{|N|-1}$"
   ]
  },
  {
   "cell_type": "code",
   "execution_count": 1,
   "metadata": {},
   "outputs": [
    {
     "data": {
      "text/plain": [
       "0.6666666666666666"
      ]
     },
     "execution_count": 1,
     "metadata": {},
     "output_type": "execute_result"
    }
   ],
   "source": [
    "4/(7-1) # D has 4 edges and the network has 6 nodes + node D"
   ]
  },
  {
   "cell_type": "code",
   "execution_count": 1,
   "metadata": {},
   "outputs": [
    {
     "data": {
      "image/png": "[encoded data removed]",
      "text/plain": [
       "<matplotlib.figure.Figure at 0x2d539e5a048>"
      ]
     },
     "metadata": {},
     "output_type": "display_data"
    }
   ],
   "source": [
    "import networkx as nx\n",
    "import matplotlib as plt\n",
    "%matplotlib inline\n",
    "\n",
    "# Instantiate the graph\n",
    "G = nx.Graph()\n",
    "# add node/edge pairs\n",
    "G.add_edges_from([('A','B'),('A','C'),('B','D'),('C','D'),('C','E'),('D','E'),('D','G'),('E','G'),('G','F')])\n",
    "\n",
    "#plt.figure(figsize=(10,9))\n",
    "pos = nx.spring_layout(G)\n",
    "nx.draw_networkx(G, pos)"
   ]
  },
  {
   "cell_type": "code",
   "execution_count": 2,
   "metadata": {},
   "outputs": [
    {
     "data": {
      "text/plain": [
       "0.6666666666666666"
      ]
     },
     "execution_count": 2,
     "metadata": {},
     "output_type": "execute_result"
    }
   ],
   "source": [
    "degCent=nx.degree_centrality(G)\n",
    "degCent['D']"
   ]
  },
  {
   "cell_type": "markdown",
   "metadata": {},
   "source": [
    "# Question 2\n",
    "Based on the network below, what is the closeness centrality of node G?\n",
    "\n",
    "![](images/q3-1.png)"
   ]
  },
  {
   "cell_type": "markdown",
   "metadata": {},
   "source": [
    "|Node1|Node2|ShortestPathLength|\n",
    "|-----|-----|------------------|\n",
    "|G    |A    |3                 |\n",
    "|G    |B    |2                 |\n",
    "|G    |C    |2                 |\n",
    "|G    |D    |1                 |\n",
    "|G    |E    |1                 |\n",
    "|G    |F    |1                 |\n",
    "|Total|.|10                |"
   ]
  },
  {
   "cell_type": "code",
   "execution_count": 15,
   "metadata": {},
   "outputs": [
    {
     "data": {
      "text/plain": [
       "10"
      ]
     },
     "execution_count": 15,
     "metadata": {},
     "output_type": "execute_result"
    }
   ],
   "source": [
    "sum(nx.shortest_path_length(G,'G').values())"
   ]
  },
  {
   "cell_type": "code",
   "execution_count": 16,
   "metadata": {},
   "outputs": [
    {
     "data": {
      "text/plain": [
       "0.6"
      ]
     },
     "execution_count": 16,
     "metadata": {},
     "output_type": "execute_result"
    }
   ],
   "source": [
    "(len(G.nodes())-1)/10"
   ]
  },
  {
   "cell_type": "code",
   "execution_count": 17,
   "metadata": {},
   "outputs": [
    {
     "data": {
      "text/plain": [
       "0.6"
      ]
     },
     "execution_count": 17,
     "metadata": {},
     "output_type": "execute_result"
    }
   ],
   "source": [
    "closeCent=nx.closeness_centrality(G)\n",
    "closeCent['G']"
   ]
  },
  {
   "cell_type": "markdown",
   "metadata": {},
   "source": [
    "# Question 3\n",
    "Based on the network below, what is the normalized betweenness centrality (excluding endpoints) of node G?\n",
    "\n",
    "![](images/q3-1.png)"
   ]
  },
  {
   "cell_type": "markdown",
   "metadata": {},
   "source": [
    "Paths that goes through 'G' are \n",
    "\n",
    "* A-F\n",
    "* B-F\n",
    "* C-F\n",
    "* D-F\n",
    "* E-F\n",
    "\n",
    "5 paths\n",
    "\n",
    "so 1/1+1/1+1/1+1/1+1/1=5 betweenness\n",
    "\n",
    "The network is undirected, so 5/(0.5*(7-1)*(7-2) = 0.33333"
   ]
  },
  {
   "cell_type": "code",
   "execution_count": 19,
   "metadata": {},
   "outputs": [
    {
     "data": {
      "text/plain": [
       "[('D', 0.38888888888888884),\n",
       " ('G', 0.3333333333333333),\n",
       " ('C', 0.18888888888888888),\n",
       " ('E', 0.1111111111111111),\n",
       " ('B', 0.07777777777777777)]"
      ]
     },
     "execution_count": 19,
     "metadata": {},
     "output_type": "execute_result"
    }
   ],
   "source": [
    "btwnCent=nx.betweenness_centrality(G, normalized=True, endpoints=False)\n",
    "\n",
    "import operator\n",
    "\n",
    "sorted(btwnCent.items(),key=operator.itemgetter(1),reverse=True)[0:5]"
   ]
  },
  {
   "cell_type": "markdown",
   "metadata": {},
   "source": [
    "# Question 4\n",
    "Based on the network below, what is the betweenness centrality without normalization of edge (G,F)?\n",
    "\n",
    "![](images/q3-1.png)"
   ]
  },
  {
   "cell_type": "markdown",
   "metadata": {},
   "source": [
    "* A-F\n",
    "* B-F\n",
    "* C-F\n",
    "* D-F\n",
    "* E-F\n",
    "* G-F\n",
    "\n",
    "6 paths goes through edge 'G'-'F'"
   ]
  },
  {
   "cell_type": "code",
   "execution_count": 23,
   "metadata": {},
   "outputs": [
    {
     "data": {
      "text/plain": [
       "[(('D', 'G'), 6.333333333333333),\n",
       " (('G', 'F'), 6.0),\n",
       " (('B', 'D'), 5.666666666666667),\n",
       " (('A', 'C'), 4.333333333333333),\n",
       " (('E', 'G'), 3.6666666666666665)]"
      ]
     },
     "execution_count": 23,
     "metadata": {},
     "output_type": "execute_result"
    }
   ],
   "source": [
    "btwnCent=nx.edge_betweenness_centrality(G, normalized=False)\n",
    "\n",
    "import operator\n",
    "\n",
    "sorted(btwnCent.items(),key=operator.itemgetter(1),reverse=True)[0:5]"
   ]
  },
  {
   "cell_type": "markdown",
   "metadata": {},
   "source": [
    "# Question 5\n",
    "Select all True statements.\n",
    "\n",
    "\n",
    "**We can use subsets of node-pairs to approximate betweenness centrality.**\n",
    "\n",
    "\n",
    "The closeness centrality of a node describes how far the node is from others.\n",
    "\n",
    "\n",
    "**The assumption of degree centrality is that important nodes have more connections.**\n",
    "\n",
    "\n",
    "In directed networks, in-degree and out-degree centrality of a node are always the same.\n",
    "\n",
    "\n",
    "The node with highest betwenness centrality in a network also has the highest closeness centrality."
   ]
  },
  {
   "cell_type": "markdown",
   "metadata": {},
   "source": [
    "# Question 6\n",
    "Select all True statements about Page Rank (PR) and HITS in directed networks.\n",
    "\n",
    "\n",
    "**Adding in-links of a node will never decrease its PR.**\n",
    "\n",
    "\n",
    "**The authority and hub score of each node is obtained by computing multiple iterations of HITS algorithm and both scores of most networks are convergent.**\n",
    "\n",
    "\n",
    "Adding out-links of a node will always decrease its PR.\n",
    "\n",
    "\n",
    "**Nodes with high in-degree centrality have higher PRs than nodes with low in-degree centrality.**\n",
    "\n",
    "\n",
    "Nodes that have outgoing edges to good hubs are good authorities, and nodes that have incoming edges from good authorities are good hubs."
   ]
  },
  {
   "cell_type": "markdown",
   "metadata": {},
   "source": [
    "# Question 7\n",
    "Given the network below, which value of alpha (damping parameter) listed below in the NetworkX function pagerank maximizes the PageRank of node D?\n",
    "\n",
    "![](images/q3-7.png)"
   ]
  },
  {
   "cell_type": "code",
   "execution_count": 24,
   "metadata": {},
   "outputs": [
    {
     "data": {
      "image/png": "[encoded data removed]",
      "text/plain": [
       "<matplotlib.figure.Figure at 0x2365cc21978>"
      ]
     },
     "metadata": {},
     "output_type": "display_data"
    }
   ],
   "source": [
    "# Instantiate the graph\n",
    "G = nx.DiGraph()\n",
    "# add node/edge pairs\n",
    "G.add_edges_from([('B','A'),('A','B'),('A','C'),('C','D'),('D','C')])\n",
    "\n",
    "#plt.figure(figsize=(10,9))\n",
    "pos = nx.spring_layout(G)\n",
    "nx.draw_networkx(G, pos)"
   ]
  },
  {
   "cell_type": "code",
   "execution_count": 26,
   "metadata": {},
   "outputs": [
    {
     "data": {
      "text/plain": [
       "{'B': 0.1029417063058385,\n",
       " 'A': 0.13235426576459627,\n",
       " 'C': 0.3970582936941615,\n",
       " 'D': 0.36764573423540375}"
      ]
     },
     "execution_count": 26,
     "metadata": {},
     "output_type": "execute_result"
    }
   ],
   "source": [
    "nx.pagerank(G,alpha=0.8)"
   ]
  },
  {
   "cell_type": "code",
   "execution_count": 27,
   "metadata": {},
   "outputs": [
    {
     "data": {
      "text/plain": [
       "{'B': 0.06092586099927893,\n",
       " 'A': 0.07983327489935103,\n",
       " 'C': 0.4390741390007211,\n",
       " 'D': 0.420166725100649}"
      ]
     },
     "execution_count": 27,
     "metadata": {},
     "output_type": "execute_result"
    }
   ],
   "source": [
    "nx.pagerank(G,alpha=0.9)"
   ]
  },
  {
   "cell_type": "code",
   "execution_count": 28,
   "metadata": {},
   "outputs": [
    {
     "data": {
      "text/plain": [
       "{'B': 0.03360050631947267,\n",
       " 'A': 0.04442211856731087,\n",
       " 'C': 0.46639949368052747,\n",
       " 'D': 0.4555778814326893}"
      ]
     },
     "execution_count": 28,
     "metadata": {},
     "output_type": "execute_result"
    }
   ],
   "source": [
    "nx.pagerank(G,alpha=0.95)"
   ]
  },
  {
   "cell_type": "code",
   "execution_count": 29,
   "metadata": {},
   "outputs": [
    {
     "data": {
      "text/plain": [
       "{'B': 0.1785717010498047,\n",
       " 'A': 0.21428680419921875,\n",
       " 'C': 0.3214282989501953,\n",
       " 'D': 0.28571319580078125}"
      ]
     },
     "execution_count": 29,
     "metadata": {},
     "output_type": "execute_result"
    }
   ],
   "source": [
    "nx.pagerank(G,alpha=0.5)"
   ]
  },
  {
   "cell_type": "markdown",
   "metadata": {},
   "source": [
    "# Question 8\n",
    "Based on the network below, what is the basic PR of node C at step k = 1?\n",
    "\n",
    "![](images/q3-8.png)"
   ]
  },
  {
   "cell_type": "markdown",
   "metadata": {},
   "source": [
    "|A|B|C|D|\n",
    "|-|-|-|-|\n",
    "|1/4|1/4|1/4|1/4|\n",
    "|1/4|1/4|**(1/4)+(1/4)+(1/4)/2**|0|"
   ]
  },
  {
   "cell_type": "code",
   "execution_count": 6,
   "metadata": {},
   "outputs": [
    {
     "data": {
      "text/plain": [
       "0.625"
      ]
     },
     "execution_count": 6,
     "metadata": {},
     "output_type": "execute_result"
    }
   ],
   "source": [
    "(1/4)+(1/4)+(1/4)/2"
   ]
  },
  {
   "cell_type": "markdown",
   "metadata": {},
   "source": [
    "# Question 9\n",
    "Based on the network below, what are the corresponding normalized authority and hub scores of node C correspondingly after two iterations of HITS algorithm?\n",
    "\n",
    "![](images/q3-8.png)"
   ]
  },
  {
   "cell_type": "code",
   "execution_count": 3,
   "metadata": {},
   "outputs": [
    {
     "data": {
      "image/png": "[encoded data removed]",
      "text/plain": [
       "<matplotlib.figure.Figure at 0x2d53cdb3da0>"
      ]
     },
     "metadata": {},
     "output_type": "display_data"
    }
   ],
   "source": [
    "# Instantiate the graph\n",
    "G = nx.DiGraph()\n",
    "# add node/edge pairs\n",
    "G.add_edges_from([('A','B'),('B','C'),('A','C'),('C','A'),('D','C')])\n",
    "\n",
    "#plt.figure(figsize=(10,9))\n",
    "pos = nx.spring_layout(G)\n",
    "nx.draw_networkx(G, pos)"
   ]
  },
  {
   "cell_type": "code",
   "execution_count": 5,
   "metadata": {},
   "outputs": [
    {
     "data": {
      "text/plain": [
       "({'A': 0.41421356195612885,\n",
       "  'B': 0.2928932185186695,\n",
       "  'C': 1.0065322483445805e-09,\n",
       "  'D': 0.2928932185186695},\n",
       " {'A': 2.429983801460681e-09,\n",
       "  'B': 0.29289321810158986,\n",
       "  'C': 0.7071067794684264,\n",
       "  'D': 0.0})"
      ]
     },
     "execution_count": 5,
     "metadata": {},
     "output_type": "execute_result"
    }
   ],
   "source": [
    "nx.hits(G,max_iter =20,normalized =True)"
   ]
  },
  {
   "cell_type": "markdown",
   "metadata": {},
   "source": [
    "\n",
    "![](images/q3-9.png)"
   ]
  },
  {
   "cell_type": "markdown",
   "metadata": {},
   "source": [
    "#  Question 10\n",
    "Based on the network below, which of the following is NOT True? Check all that apply.\n",
    "\n",
    "![](images/q3-8.png)\n",
    "\n",
    "**At step k (k>=1), node A’s basic PR is always the same as node C’s basic PR at step k-1.**\n",
    "\n",
    "\n",
    "**Node D’s authority and hub score after k iterations (k>=1) are always 0.**\n",
    "\n",
    "\n",
    "Node D’s basic PR at step k (k>=1) is always 0.\n",
    "\n",
    "\n",
    "At each step, the sum of all nodes’ basic PR is always 1."
   ]
  },
  {
   "cell_type": "code",
   "execution_count": null,
   "metadata": {},
   "outputs": [],
   "source": []
  }
 ],
 "metadata": {
  "kernelspec": {
   "display_name": "Python 3",
   "language": "python",
   "name": "python3"
  },
  "language_info": {
   "codemirror_mode": {
    "name": "ipython",
    "version": 3
   },
   "file_extension": ".py",
   "mimetype": "text/x-python",
   "name": "python",
   "nbconvert_exporter": "python",
   "pygments_lexer": "ipython3",
   "version": "3.6.6"
  }
 },
 "nbformat": 4,
 "nbformat_minor": 2
}
