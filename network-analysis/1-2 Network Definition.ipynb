{
 "cells": [
  {
   "cell_type": "markdown",
   "metadata": {},
   "source": [
    "# Network Definition and Vocabulary\n",
    "\n",
    "* Network (or Graph): A representation of conncetions among a set of items.\n",
    "\n",
    "![](images/network9.png)\n",
    "\n",
    "* Items are called nodes (or vertices)\n",
    "* Connections are called edges (or link or ties)\n",
    "\n"
   ]
  },
  {
   "cell_type": "code",
   "execution_count": 1,
   "metadata": {},
   "outputs": [],
   "source": [
    "import networkx as nx\n",
    "G=nx.Graph()"
   ]
  },
  {
   "cell_type": "markdown",
   "metadata": {},
   "source": [
    "* Add edges"
   ]
  },
  {
   "cell_type": "code",
   "execution_count": 2,
   "metadata": {},
   "outputs": [],
   "source": [
    "G.add_edge('A','B')\n",
    "G.add_edge('B','C')\n",
    "G.add_edge('D','E')"
   ]
  },
  {
   "cell_type": "markdown",
   "metadata": {},
   "source": [
    "# Symmetric relationships\n",
    "\n",
    "![](images/network10.png)\n",
    "\n",
    "* Nodes: people\n",
    "* Edges: Friendship, martital, or family ties\n",
    "* Mostly symmetric relationships\n",
    "\n",
    "# Asymmetric relationships\n",
    "\n",
    "![](images/network11.png)\n",
    "\n",
    "* Nodes: Birds\n",
    "* Edges: WHat eats what\n",
    "* Asymmetric relationships \n",
    "* Direction of eadges has important meaning\n",
    "\n",
    "# Edge Direction\n",
    "\n",
    "![](images/network12.png)"
   ]
  },
  {
   "cell_type": "markdown",
   "metadata": {},
   "source": [
    "# Weighted Networks\n",
    "\n",
    "* Not all relationships are equal\n",
    "* Some edges carry higher weight than others\n",
    "\n",
    "![](images/network13.png)\n",
    "\n",
    "* A and B had lunch 6 times\n",
    "* C and E had lunch 25 times\n",
    "\n",
    "* Weighted networkL a network where edges are assigned a weight (typically numerical)\n"
   ]
  },
  {
   "cell_type": "code",
   "execution_count": 5,
   "metadata": {},
   "outputs": [],
   "source": [
    "G=nx.Graph()\n",
    "G.add_edge('A','B', weight=6)\n",
    "G.add_edge('C','E', weight=25)"
   ]
  },
  {
   "cell_type": "markdown",
   "metadata": {},
   "source": [
    "# Signed Networks\n",
    "\n",
    "* Some networks can carry information about friendship and antagonism based on conflict or disagreement.\n",
    "\n",
    "E.g. In epinions and Slashdot people can declare friends and foes.\n",
    "\n",
    "![](images/network14.png)"
   ]
  },
  {
   "cell_type": "code",
   "execution_count": 6,
   "metadata": {},
   "outputs": [],
   "source": [
    "G=nx.Graph()\n",
    "G.add_edge('A','B', sign='+')\n",
    "G.add_edge('C','B', sign='-')"
   ]
  },
  {
   "cell_type": "markdown",
   "metadata": {},
   "source": [
    "# Other Edge Attributes\n",
    "\n",
    "* Edges can carry many other labels or attributes\n",
    "\n",
    "![](images/network15.png)\n",
    "\n",
    "Colors are used to indicate particular relationships"
   ]
  },
  {
   "cell_type": "code",
   "execution_count": null,
   "metadata": {},
   "outputs": [],
   "source": [
    "G=nx.Graph()\n",
    "G.add_edge('A','B', relation='friend')\n",
    "G.add_edge('C','B', relation='coworker')"
   ]
  },
  {
   "cell_type": "markdown",
   "metadata": {},
   "source": [
    "# Multigraph\n",
    "\n",
    "* A pair of nodes can have different types of relationships simultaneously\n",
    "\n",
    "\n",
    "![](images/network16.png)\n",
    "\n",
    "Multigraph: A network where multiple edges can connect the same nodes (parallel edges)."
   ]
  },
  {
   "cell_type": "code",
   "execution_count": 9,
   "metadata": {},
   "outputs": [
    {
     "data": {
      "text/plain": [
       "1"
      ]
     },
     "execution_count": 9,
     "metadata": {},
     "output_type": "execute_result"
    }
   ],
   "source": [
    "G=nx.MultiGraph()\n",
    "G.add_edge('A','B', relation='friend')\n",
    "G.add_edge('A','B', relation='neighbor')"
   ]
  },
  {
   "cell_type": "markdown",
   "metadata": {},
   "source": [
    "# Summary"
   ]
  },
  {
   "cell_type": "markdown",
   "metadata": {},
   "source": [
    "![](images/network17.png)"
   ]
  },
  {
   "cell_type": "code",
   "execution_count": null,
   "metadata": {},
   "outputs": [],
   "source": []
  }
 ],
 "metadata": {
  "kernelspec": {
   "display_name": "Python 3",
   "language": "python",
   "name": "python3"
  },
  "language_info": {
   "codemirror_mode": {
    "name": "ipython",
    "version": 3
   },
   "file_extension": ".py",
   "mimetype": "text/x-python",
   "name": "python",
   "nbconvert_exporter": "python",
   "pygments_lexer": "ipython3",
   "version": "3.6.6"
  }
 },
 "nbformat": 4,
 "nbformat_minor": 2
}
