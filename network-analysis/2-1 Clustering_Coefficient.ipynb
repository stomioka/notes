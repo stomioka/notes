{
 "cells": [
  {
   "cell_type": "markdown",
   "metadata": {},
   "source": [
    "# Triadic Closure"
   ]
  },
  {
   "cell_type": "markdown",
   "metadata": {},
   "source": [
    "The tendency for people who share connections in a social network to become connected.\n",
    "Another way of referring to Triadic Closure is Clustering\n",
    "\n",
    "\n",
    " Triadic Closure would say that those edges that closed triangles are good candidates for edges that may show up next. So, here, all the red edges form closed triangles, and so, these are good candidates for edges that may show up.\n",
    " \n",
    "![](images/triadic1.png)\n",
    "\n",
    "How can we measure the prevalence of triadic closure in a network.\n",
    "\n",
    "## Local Clustering Coefficient\n",
    "\n",
    "Clustering from the point of view of a single node. And, this is called a Local Clustering Coefficient. And, the way it's defined is the fraction of pairs of the nodes friends that are friends with each other. The best way to show you how Local Clustering Coefficient works is by showing you an example.\n",
    "\n",
    "![](images/triadic2.png)\n",
    "\n",
    "\n",
    "### Compute the local clustering coefficient of node C: $ \\frac{Number of pairs of C's friends who are friends}{Number of pairs of C's frieds}$\n",
    "\n",
    "$Number of C's friends = d_c=4 $ (the 'degree' of C) \n",
    "![](images/triadic3.png)\n",
    "\n",
    "$Number of pairs C's friends = \\frac{d_c(d_c-1)}{2}=\\frac{12}{6}=6 $ ![](images/triadic4.png)\n",
    "\n",
    "$Number of pairs C's friends who are friends = 2 $  ![](images/triadic5.png)\n",
    "\n",
    "$Local Clustering Coefficient of C = \\frac{2}{6} =\\frac{1}{3}$\n",
    "\n",
    " ![](images/triadic6.png)\n",
    " \n",
    "  ![](images/triadic7.png)"
   ]
  },
  {
   "cell_type": "markdown",
   "metadata": {},
   "source": [
    "## Local clustering coefficient in NetworkX:"
   ]
  },
  {
   "cell_type": "code",
   "execution_count": 6,
   "metadata": {},
   "outputs": [
    {
     "data": {
      "text/plain": [
       "0.6666666666666666"
      ]
     },
     "execution_count": 6,
     "metadata": {},
     "output_type": "execute_result"
    }
   ],
   "source": [
    "import networkx as nx\n",
    "G=nx.Graph()\n",
    "G.add_edges_from([('A','K'),('A','B'),('A','C'),('B','C'),('B','K'),('C','E'),('C','F'),('D','E'),('E','F'),('E','H'),('F','G'),('I','J')])\n",
    "nx.clustering(G,'F')\n",
    "nx.clustering(G,'A')"
   ]
  },
  {
   "cell_type": "code",
   "execution_count": 7,
   "metadata": {},
   "outputs": [
    {
     "data": {
      "text/plain": [
       "0"
      ]
     },
     "execution_count": 7,
     "metadata": {},
     "output_type": "execute_result"
    }
   ],
   "source": [
    "nx.clustering(G,'J')"
   ]
  },
  {
   "cell_type": "markdown",
   "metadata": {},
   "source": [
    "# Global Clustering Coefficient\n",
    "\n",
    "Measuring clustering on the whole network\n",
    "\n",
    "![](images/triadic1.png)\n",
    "\n",
    "## Approach 1: Average local clustering coefficient over all nodes in the graph"
   ]
  },
  {
   "cell_type": "code",
   "execution_count": 8,
   "metadata": {},
   "outputs": [
    {
     "data": {
      "text/plain": [
       "0.28787878787878785"
      ]
     },
     "execution_count": 8,
     "metadata": {},
     "output_type": "execute_result"
    }
   ],
   "source": [
    "nx.average_clustering(G)"
   ]
  },
  {
   "cell_type": "markdown",
   "metadata": {},
   "source": [
    "\n",
    "## Approach 2: Measuring clustering on the whole network\n",
    "\n",
    "Percentage of \"open triads\" that are triangles in a network.\n",
    "\n",
    "![](images/triadic8.png)\n",
    "\n",
    "### $Transitivity = \\frac{3*Number of closed triads}{Number of open triads}$"
   ]
  },
  {
   "cell_type": "code",
   "execution_count": 9,
   "metadata": {},
   "outputs": [
    {
     "data": {
      "text/plain": [
       "0.4090909090909091"
      ]
     },
     "execution_count": 9,
     "metadata": {},
     "output_type": "execute_result"
    }
   ],
   "source": [
    "nx.transitivity(G)"
   ]
  },
  {
   "cell_type": "markdown",
   "metadata": {},
   "source": [
    "## Transitivity vs. Average Clustering Coefficient\n",
    "\n",
    "Both measure the tendency for edges to form triangles.\n",
    "Transitivity weights nodes with large degree higher\n",
    "\n",
    "![](images/triadic9.png)\n",
    "\n",
    "\n",
    "![](images/triadic10.png)"
   ]
  },
  {
   "cell_type": "markdown",
   "metadata": {},
   "source": [
    "# Summary\n",
    "\n",
    "* Clustering coefficient measures the degree to which nodes in a network tend to \"cluster\" or form triangles\n",
    "\n",
    "* Local Clustering Coefficient\n",
    "![](images/triadic11.png)\n",
    "\n",
    "\n",
    "* GLobal Clustering Coefficient\n",
    "\n",
    "![](images/triadic12.png)\n"
   ]
  },
  {
   "cell_type": "code",
   "execution_count": null,
   "metadata": {},
   "outputs": [],
   "source": []
  }
 ],
 "metadata": {
  "kernelspec": {
   "display_name": "Python 3",
   "language": "python",
   "name": "python3"
  },
  "language_info": {
   "codemirror_mode": {
    "name": "ipython",
    "version": 3
   },
   "file_extension": ".py",
   "mimetype": "text/x-python",
   "name": "python",
   "nbconvert_exporter": "python",
   "pygments_lexer": "ipython3",
   "version": "3.6.6"
  }
 },
 "nbformat": 4,
 "nbformat_minor": 2
}
