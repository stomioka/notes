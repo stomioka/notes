{
 "cells": [
  {
   "cell_type": "markdown",
   "metadata": {},
   "source": [
    "# Connected Components\n",
    "\n",
    "An undirected graph is **connected** if, for every pair nodes, there is a path between them.\n",
    "\n",
    "![](images/connected1.png)\n"
   ]
  },
  {
   "cell_type": "code",
   "execution_count": null,
   "metadata": {},
   "outputs": [],
   "source": [
    "nx.is_connected(G)"
   ]
  },
  {
   "cell_type": "markdown",
   "metadata": {},
   "source": [
    "If we remove edges A-G, A-N, and J-O, the graph becomes disconnected.\n",
    "\n",
    "![](images/connected2.png)\n",
    "\n",
    "* **Community:** Connected Component\n",
    "A subset of nodes such as:\n",
    "\n",
    "    1. Every node in the subset has a path to every other node\n",
    "    2. No other node has a path to any node in hte subset\n",
    "    \n",
    "* Is the subset{E,A,G,F} a connected component?\n",
    "\n",
    "![](images/connected3.png)\n",
    "\n",
    "    Not connected\n",
    "\n",
    "* Is the subset {N,O,K} a connected component?\n",
    "\n",
    "![](images/connected4.png)\n",
    "\n",
    "    No, because node L has a pth to N, O, and K.\n",
    "    \n",
    "* What are the connected components in this graph?\n",
    "\n",
    "![](images/connected5.png)"
   ]
  },
  {
   "cell_type": "code",
   "execution_count": null,
   "metadata": {},
   "outputs": [],
   "source": [
    "nx.number_connected_components(G)"
   ]
  },
  {
   "cell_type": "markdown",
   "metadata": {},
   "source": [
    "3"
   ]
  },
  {
   "cell_type": "code",
   "execution_count": null,
   "metadata": {},
   "outputs": [],
   "source": [
    "sorted(nx.connected_components(G))"
   ]
  },
  {
   "cell_type": "code",
   "execution_count": 1,
   "metadata": {},
   "outputs": [
    {
     "data": {
      "text/plain": [
       "[{'A', 'B', 'C', 'D', 'E'},\n",
       " {'F', 'G', 'H', 'I', 'J'},\n",
       " {'K', 'L', 'M', 'N', 'O'}]"
      ]
     },
     "execution_count": 1,
     "metadata": {},
     "output_type": "execute_result"
    }
   ],
   "source": [
    "[{'A','B','C','D','E'},{'F','G','H','I','J'},{'K','L','M','N','O'}]"
   ]
  },
  {
   "cell_type": "code",
   "execution_count": null,
   "metadata": {},
   "outputs": [],
   "source": [
    "nx.node_connected_component(G,'M')"
   ]
  },
  {
   "cell_type": "markdown",
   "metadata": {},
   "source": [
    "{'K','L','M','N','O'}\n",
    "\n",
    "![](images/connected6.png)\n",
    "\n",
    "* A directed graph is **strongly connected** if, for every pair nodes $u$ and $v$, there is a directed path from $u$ to $v$ and a directed path from $v$ to $u$.\n",
    "\n",
    "![](images/connected7.png)\n",
    "\n",
    "`nx.is_strongly_connected(G)`\n",
    "\n",
    "False\n",
    "\n",
    "Note: there is no directed path from A to H\n",
    "\n",
    "* A directed graph is **weakly connected** if replacing all directed edges with undirected edges produces a connected undirected graph.\n",
    "\n",
    "Make an undirected graph\n",
    "\n",
    "![](images/connected8.png)\n",
    "\n",
    "`nx.is_weekly_connected(G)`\n",
    "\n",
    "True"
   ]
  },
  {
   "cell_type": "markdown",
   "metadata": {},
   "source": [
    "### Strongly connected component:\n",
    "\n",
    "A subset of nodes ssuch as:\n",
    "\n",
    "1. Every node in the subset had a **directed** path to every other node.\n",
    "2. No other node has a **directed** oath to and from every node in the subset.\n",
    "\n",
    "What are the strongly connected components in this graph?\n",
    "\n",
    "![](images/connected6.png)\n",
    "\n",
    "`sorted(nx.strongly_connected_components(G)`\n",
    "\n",
    "Out: [{M},{L},{K},{A, B,C,D,E,F,G,J, N, O}, {H, I}]\n",
    "\n",
    "![](images/connected9.png)"
   ]
  },
  {
   "cell_type": "markdown",
   "metadata": {},
   "source": [
    "### Weekly connected component:\n",
    "\n",
    "The connected components of the graph after repalcing all directed edges with undirected edges.\n",
    "\n",
    "`sorted(nx.weakly_connected_components(G))`"
   ]
  },
  {
   "cell_type": "markdown",
   "metadata": {},
   "source": [
    "# Summary\n",
    "\n",
    "![](images/connected10.png)"
   ]
  },
  {
   "cell_type": "code",
   "execution_count": null,
   "metadata": {},
   "outputs": [],
   "source": []
  }
 ],
 "metadata": {
  "kernelspec": {
   "display_name": "Python 3",
   "language": "python",
   "name": "python3"
  },
  "language_info": {
   "codemirror_mode": {
    "name": "ipython",
    "version": 3
   },
   "file_extension": ".py",
   "mimetype": "text/x-python",
   "name": "python",
   "nbconvert_exporter": "python",
   "pygments_lexer": "ipython3",
   "version": "3.6.6"
  }
 },
 "nbformat": 4,
 "nbformat_minor": 2
}
