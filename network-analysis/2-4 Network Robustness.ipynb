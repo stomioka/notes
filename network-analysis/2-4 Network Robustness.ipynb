{
 "cells": [
  {
   "cell_type": "markdown",
   "metadata": {},
   "source": [
    "# Network Robustness\n",
    "\n",
    "![](images/robust1.png)\n",
    "\n",
    "\n",
    "Why **robustness** is important?"
   ]
  },
  {
   "cell_type": "markdown",
   "metadata": {},
   "source": [
    "## Disconnecting a Graph\n",
    "\n",
    "What is the smallest number of **node** that can be removed from this graph in order to disconnect it?\n",
    "\n",
    "![](images/connected8.png)"
   ]
  },
  {
   "cell_type": "markdown",
   "metadata": {},
   "source": [
    "`nx.node_connectivity(G_un)`\n",
    "\n",
    "Out: 1\n",
    "\n",
    "* Which **nodes** are the ones that you can remove in order to disconnect the graph. And in this case, it's node A.\n",
    "\n",
    "`nx.minimum_node_cut(G_un)`\n",
    "\n",
    "Out: {'A'}\n",
    "\n",
    "![](images/robust2.png)\n",
    "\n",
    "This would be a bad situation for the airport\n"
   ]
  },
  {
   "cell_type": "markdown",
   "metadata": {},
   "source": [
    "---\n",
    "* WHat is the smallest number of **edges** that can be removed from this graph in order to disconnect it?\n",
    "\n",
    "![](images/robust3.png)\n",
    "\n",
    "`nx.edge_connectivity(G_un)`\n",
    "Out:2\n",
    "\n",
    "`nx.minimum_node_cut(G_un)`\n",
    "Out:{('A','G'),('O','J')}\n",
    "\n",
    "* Robust newtorks have large minimum node and edge cuts\n"
   ]
  },
  {
   "cell_type": "markdown",
   "metadata": {},
   "source": [
    "#  Simple Paths"
   ]
  },
  {
   "cell_type": "markdown",
   "metadata": {},
   "source": [
    "Imagine node G wants to send a message to node L by passing it along to other nodes in this network.\n",
    "\n",
    "![](images/robust4.png)\n",
    "\n",
    "\n",
    "What options does G have to deliver the message?\n"
   ]
  },
  {
   "cell_type": "code",
   "execution_count": null,
   "metadata": {},
   "outputs": [],
   "source": [
    "sorted(nx.all_simple_paths(G,'G','L'))"
   ]
  },
  {
   "cell_type": "markdown",
   "metadata": {},
   "source": [
    "* If we wanted to block the message from G to L by removing **nodes** from the network, how many nodes would we need to remove?\n",
    "\n",
    "`x.node_connectivity(G,'G','L')`\n",
    "out:{'N'.'O'}"
   ]
  },
  {
   "cell_type": "markdown",
   "metadata": {},
   "source": [
    "* If we wanted to block the message from G to L by removing **edges** from the network, how many nodes would we need to remove?\n",
    "\n",
    "`x.edge_connectivity(G,'G','L')`\n",
    "out:2\n",
    "\n",
    "WHich edges?\n",
    "`nx.minimum_edge_cut(G,'G','L')`\n",
    "Out:{('A','N'),('J,'O')}"
   ]
  },
  {
   "cell_type": "code",
   "execution_count": 6,
   "metadata": {},
   "outputs": [
    {
     "data": {
      "text/plain": [
       "{('J', 'O'), ('N', 'O')}"
      ]
     },
     "execution_count": 6,
     "metadata": {},
     "output_type": "execute_result"
    },
    {
     "data": {
      "image/png": "[encoded data removed]",
      "text/plain": [
       "<matplotlib.figure.Figure at 0x2384038c828>"
      ]
     },
     "metadata": {},
     "output_type": "display_data"
    }
   ],
   "source": [
    "import networkx as nx \n",
    "%matplotlib inline\n",
    "G = nx.DiGraph()\n",
    "G.add_edges_from([('A', 'B'), ('C', 'A'), ('A', 'E'), ('G', 'A'), ('A', 'N'), ('B', 'C'), ('D', 'B'), ('B', 'E'), ('C', 'D'), ('E', 'C'), ('D', 'E'), ('E', 'D'), ('F', 'G'), ('I', 'F'), ('J', 'F'), ('H', 'G'), ('I', 'G'), ('G', 'J'), ('I', 'H'), ('H', 'I'), ('I', 'J'), ('J', 'O'), ('O', 'J'), ('K', 'M'), ('K', 'L'), ('O', 'K'), ('O', 'L'), ('N', 'L'), ('L', 'M'), ('N', 'O')])\n",
    "nx.draw_networkx(G)\n",
    "\n",
    "nx.edge_connectivity(G,'H','O')\n",
    "nx.minimum_edge_cut(G,'H','O')"
   ]
  },
  {
   "cell_type": "markdown",
   "metadata": {},
   "source": [
    "# Summary\n",
    "\n",
    "![](images/robust5.png)"
   ]
  },
  {
   "cell_type": "code",
   "execution_count": null,
   "metadata": {},
   "outputs": [],
   "source": []
  }
 ],
 "metadata": {
  "kernelspec": {
   "display_name": "Python 3",
   "language": "python",
   "name": "python3"
  },
  "language_info": {
   "codemirror_mode": {
    "name": "ipython",
    "version": 3
   },
   "file_extension": ".py",
   "mimetype": "text/x-python",
   "name": "python",
   "nbconvert_exporter": "python",
   "pygments_lexer": "ipython3",
   "version": "3.6.6"
  }
 },
 "nbformat": 4,
 "nbformat_minor": 2
}
