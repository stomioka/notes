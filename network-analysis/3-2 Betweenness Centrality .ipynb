{
 "cells": [
  {
   "cell_type": "markdown",
   "metadata": {},
   "source": [
    "# Betweeness Centrality\n",
    "\n",
    "**Assumption** important nodes connect other nodes\n",
    "\n",
    "Recall: the distance between two nodes is the length of the shortest path between them\n",
    "\n",
    "\n",
    "Example: The distance between nodes 34 and 2 is 2:\n",
    "Path 1: 34-31-2\n",
    "Path 2: 34-14-2\n",
    "Path 3: 34-20-2\n",
    "\n",
    "Nodes 31, 14, and 20 are in a shortest path of between nodes 34 and 2\n",
    "\n",
    "$$C_{btw}(v)=\\sum_{s,t \\in N}\\frac{\\sigma_{s,t}(v)}{\\sigma_{s,t}}$$\n",
    "\n",
    "* $\\sigma_{s,t}$ is going to be the number of shortest paths between nodes s, t\n",
    "* ${\\sigma_{s,t}(v)}$ is how many of those shortest paths actually contain node v between nodes s, t\n",
    "\n",
    "![](images/3-2.2.png)\n",
    "\n",
    "**Endpoints:** we can wither include or exclude node $v$ as node $s$ and $t$ in the computation of $C_{btw}(v)$\n",
    "\n",
    "* If we exclude node $v$ in this case node B\n",
    "\n",
    "![](images/3-2.3.png)\n",
    "\n",
    "$C_{btw}(B) = \\frac{\\sigma_{A,D}(B)}{\\sigma_{A,D}} + \\frac{\\sigma_{A,C}(B)}{\\sigma_{A,C}} + \\frac{\\sigma_{C,D}(B)}{\\sigma_{C,D}} = \\frac{1}{1} + \\frac{1}{1} + \\frac{0}{1} =2 $\n",
    "\n",
    "![](images/3-2.4.png)\n",
    "\n",
    "The number of shortest path between A and D is 1, and the shortest path contains 1 B\n",
    "\n",
    "![](images/3-2.5.png)\n",
    "\n",
    "![](images/3-2.6.png)\n",
    "\n",
    "* If we include node $v$ in this case node B\n",
    "\n",
    "![](images/3-2.7.png)\n",
    "\n",
    "![](images/3-2.8.png)\n"
   ]
  },
  {
   "cell_type": "markdown",
   "metadata": {},
   "source": [
    "## Disconnected Nodes\n",
    "\n",
    "* **Assumption:** important nodes connect other nodes\n",
    "\n",
    "$C_{btw}(v) = \\sum_{s,t\\in N}\\frac{\\sigma_{s,t}(v)}{\\sigma_{s,t}}$\n",
    "\n",
    "What if not all nodes can reach each other?\n",
    "\n",
    "![](images/3-2.9.png)\n",
    "\n",
    "Node D cannot be reached by any other node in the above example, hence, $\\sigma_{A,D} =0 $, making the above definition undefined.\n",
    "\n",
    "**Example**: What is the betweenness centrality of node B, without including it as endpoint?\n",
    "\n",
    "\n",
    "![](images/3-2.10.png)\n",
    "\n",
    "\n",
    "![](images/3-2.11.png)"
   ]
  },
  {
   "cell_type": "markdown",
   "metadata": {},
   "source": [
    "### Normalization\n",
    "\n",
    "* **Assumption:** important nodes connect other nodes.\n",
    "\n",
    "\n",
    "$C_{btw}(v) = \\sum_{s,t\\in N}\\frac{\\sigma_{s,t}(v)}{\\sigma_{s,t}}$\n",
    "\n",
    "* **Normalization**: betwenness centrality values will be larger in graphs with many nodes. To control for this, we divide centrality values by the number of pairs of nodes in the graph (excluding v):\n",
    "\n",
    "* $\\frac{1}{2}(|N|-1)(|N|-2)$ in undirected graphs\n",
    "\n",
    "* $(|N|-1)(|N|-2)$ in directed graphs\n",
    "\n",
    "\n",
    "![](images/3-2.12.png)\n",
    "\n"
   ]
  },
  {
   "cell_type": "code",
   "execution_count": 6,
   "metadata": {},
   "outputs": [
    {
     "data": {
      "text/plain": [
       "[(1, 0.43763528138528146),\n",
       " (34, 0.30407497594997596),\n",
       " (33, 0.145247113997114),\n",
       " (3, 0.14365680615680618),\n",
       " (32, 0.13827561327561325)]"
      ]
     },
     "execution_count": 6,
     "metadata": {},
     "output_type": "execute_result"
    }
   ],
   "source": [
    "import networkx as nx\n",
    "\n",
    "G=nx.karate_club_graph()\n",
    "G=nx.convert_node_labels_to_integers(G,first_label=1)\n",
    "btwnCent=nx.betweenness_centrality(G, normalized=True, endpoints=False)\n",
    "\n",
    "import operator\n",
    "\n",
    "sorted(btwnCent.items(),key=operator.itemgetter(1),reverse=True)[0:5]"
   ]
  },
  {
   "cell_type": "markdown",
   "metadata": {},
   "source": [
    "### Betweeness Centrality is computationaly complex\n",
    "\n",
    "Computing betweenness centraliy of all nodes can be very computationally expensive.\n",
    "\n",
    "Depending on the algorithm, this computation can take up to $0(|N|^3)$ time.\n",
    "\n",
    "![](images/3-2.13.png)\n",
    "\n",
    "We can do **approximation** rather can computing betweenness centrality based on all pairs of nodes 2, t, we can approximate it based on a sample of nodes"
   ]
  },
  {
   "cell_type": "code",
   "execution_count": 8,
   "metadata": {},
   "outputs": [
    {
     "data": {
      "text/plain": [
       "[(1, 0.43444444444444436),\n",
       " (34, 0.3526871392496393),\n",
       " (32, 0.24312545093795096),\n",
       " (33, 0.19847132034632037),\n",
       " (3, 0.1410150613275613)]"
      ]
     },
     "execution_count": 8,
     "metadata": {},
     "output_type": "execute_result"
    }
   ],
   "source": [
    "btwncent_approx = nx.betweenness_centrality(G, normalized=True, endpoints = False, k=10)\n",
    "#k is how many nodes yoy use for approximation\n",
    "\n",
    "sorted(btwncent_approx.items(),key=operator.itemgetter(1),reverse=True)[0:5]"
   ]
  },
  {
   "cell_type": "markdown",
   "metadata": {},
   "source": [
    "We can also use **subset**\n",
    "\n",
    "![](images/3-2.14.png)"
   ]
  },
  {
   "cell_type": "code",
   "execution_count": 10,
   "metadata": {},
   "outputs": [
    {
     "data": {
      "text/plain": [
       "[(1, 0.04899515993265994),\n",
       " (34, 0.028807419432419434),\n",
       " (3, 0.018368205868205867),\n",
       " (33, 0.01664712602212602),\n",
       " (9, 0.014519450456950456)]"
      ]
     },
     "execution_count": 10,
     "metadata": {},
     "output_type": "execute_result"
    }
   ],
   "source": [
    "btwnCent_subset = nx.betweenness_centrality_subset(G, [34,33,21,30,16,27,15,23,10],[1,4,13,11,6,12,17,7], normalized=True)\n",
    "\n",
    "sorted(btwnCent_subset.items(),key=operator.itemgetter(1),reverse=True)[0:5]"
   ]
  },
  {
   "cell_type": "markdown",
   "metadata": {},
   "source": [
    "We can also use **edges**.\n",
    "\n",
    "We can use betweenness centrality to find important edges instead of nodes:\n",
    "\n",
    "$C_{btw}(e) = \\sum_{s,t\\in N}\\frac{\\sigma_{s,t}(e)}{\\sigma_{s,t}}$, where \n",
    "\n",
    "$\\sigma_{s,t}$ = the number of shortest paths between nodes s and t.\n",
    "\n",
    "$\\sigma_{s,t}(e)$ = the number shortest paths between nodes s and t that pass through edge e."
   ]
  },
  {
   "cell_type": "code",
   "execution_count": 11,
   "metadata": {},
   "outputs": [
    {
     "data": {
      "text/plain": [
       "[((1, 32), 0.1272599949070537),\n",
       " ((1, 7), 0.07813428401663695),\n",
       " ((1, 6), 0.07813428401663694),\n",
       " ((1, 3), 0.0777876807288572),\n",
       " ((1, 9), 0.07423959482783014)]"
      ]
     },
     "execution_count": 11,
     "metadata": {},
     "output_type": "execute_result"
    }
   ],
   "source": [
    "btenCent_edge = nx.edge_betweenness_centrality(G, normalized=True)\n",
    "sorted(btenCent_edge.items(),key=operator.itemgetter(1),reverse=True)[0:5]"
   ]
  },
  {
   "cell_type": "code",
   "execution_count": 12,
   "metadata": {},
   "outputs": [
    {
     "data": {
      "text/plain": [
       "[((1, 9), 0.01366536513595337),\n",
       " ((1, 32), 0.01366536513595337),\n",
       " ((14, 34), 0.012207509266332794),\n",
       " ((1, 3), 0.01211343123107829),\n",
       " ((1, 6), 0.012032085561497326)]"
      ]
     },
     "execution_count": 12,
     "metadata": {},
     "output_type": "execute_result"
    }
   ],
   "source": [
    "btwnCent_edge_subset = nx.edge_betweenness_centrality_subset(G, [34,33,21,30,16,27,15,23,10],[1,4,13,11,6,12,17,7], normalized=True)\n",
    "\n",
    "sorted(btwnCent_edge_subset.items(),key=operator.itemgetter(1),reverse=True)[0:5]"
   ]
  },
  {
   "cell_type": "markdown",
   "metadata": {},
   "source": [
    "![](images/3-2.15.png)"
   ]
  },
  {
   "cell_type": "code",
   "execution_count": null,
   "metadata": {},
   "outputs": [],
   "source": []
  }
 ],
 "metadata": {
  "kernelspec": {
   "display_name": "Python 3",
   "language": "python",
   "name": "python3"
  },
  "language_info": {
   "codemirror_mode": {
    "name": "ipython",
    "version": 3
   },
   "file_extension": ".py",
   "mimetype": "text/x-python",
   "name": "python",
   "nbconvert_exporter": "python",
   "pygments_lexer": "ipython3",
   "version": "3.6.6"
  }
 },
 "nbformat": 4,
 "nbformat_minor": 2
}
