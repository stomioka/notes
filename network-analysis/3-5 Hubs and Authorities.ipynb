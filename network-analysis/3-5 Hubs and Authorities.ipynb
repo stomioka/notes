{
 "cells": [
  {
   "cell_type": "markdown",
   "metadata": {},
   "source": [
    "# Hubs and Authorities\n",
    "\n",
    "Given a query to a search engine:\n",
    " * **Root**: set of highly relevant web pages\n",
    "    e.g. pages that contain the query string - potential **authorities**\n",
    " * Find all pages that link to a page in root - potential **hubs**\n",
    " \n",
    "\n",
    "![](images/3-5.1.png) \n",
    "\n",
    " * **Base:** root nodes and any node that linke to a node in root\n",
    " * consider all edges connectong nodes in the base set\n",
    "\n",
    "\n",
    "So the difference between this new way hubs and authorities and PageRank is that rather than taking the full network, we're starting with a subset of the network. Again, looking at first just the root set, the web pages that may be relevant, and then any page that links to it. And so these will be just the subset of the full network of the web."
   ]
  },
  {
   "cell_type": "markdown",
   "metadata": {},
   "source": [
    "# HITS algorithm\n",
    "\n",
    "* Computing $k$ iterations of the HITS algorithm to assign an authority score and hub score to each node.\n",
    "\n",
    " 1. Assign each node an authority and hub score of 1.\n",
    " 2. Apply the **Authority Update Rule** each node's **authority** score is the sum of **hub** scores of each node that **points to it**\n",
    " 3. Apply th e **Hub Update Ruule** each node's **hub** score is the sum of **authority**scores of each node that **it points to**.\n",
    "  4. **Normalize** Authority and Hub scores: $auth(j) = \\frac{auth(j)}{\\sum_{i\\in N}auth(i)}$\n",
    "  5. Repeat $k$ tims\n"
   ]
  },
  {
   "cell_type": "markdown",
   "metadata": {},
   "source": [
    "**Example**\n",
    "\n",
    "![](images/3-5.2.png)"
   ]
  },
  {
   "cell_type": "markdown",
   "metadata": {},
   "source": [
    "**Compute 2 iterations of the HITS algorithm on this network**\n",
    "\n",
    "1. Assign each node and authority and hub score of 1\n",
    "\n",
    "New Auth <- count of nodes coming in\n",
    "new hub  <- count of nodes going out\n",
    "\n",
    "|Node| Old Auth | Old Hub | New Auth | New Hub |\n",
    "|-|----------|---------|----------|---------|\n",
    "|A|1|1|3|1|\n",
    "|B|1|1|2|2|\n",
    "|C|1|1|5|1|\n",
    "|D|1|1|2|2|\n",
    "|E|1|1|1|4|\n",
    "|F|1|1|1|2|\n",
    "|G|1|1|0|2|\n",
    "|H|1|1|1|1|\n",
    "\n",
    "New Auth\n",
    "\n",
    "![](images/3-5.3.png)\n",
    "\n",
    " We look at node A and we're going to look at what nodes point to node A in order to figure out what the new authority score of A is, and it turns out that C, G, and H point to A. And because C, G, and H all have hub score of 1, then the new authority score of A is going to be 3. \n",
    " \n",
    "New Hub\n",
    "\n",
    "![](images/3-5.4.png)"
   ]
  },
  {
   "cell_type": "markdown",
   "metadata": {},
   "source": [
    "* Normalize: \n",
    "\n",
    "$\\sum_{i\\in N}auth(i)$ =15\n",
    "\n",
    "$\\sum_{i\\in N}hub(i)$ =15\n",
    "\n",
    "|Node| Old Auth | Old Hub | New Auth | New Hub |\n",
    "|-|----------|---------|----------|---------|\n",
    "|A|1|1|3/15|1/15|\n",
    "|B|1|1|2/15|2/15|\n",
    "|C|1|1|5/15|1/15|\n",
    "|D|1|1|2/15|2/15|\n",
    "|E|1|1|1/15|4/15|\n",
    "|F|1|1|1/15|2/15|\n",
    "|G|1|1|0/15|2/15|\n",
    "|H|1|1|1/15|1/15|"
   ]
  },
  {
   "cell_type": "markdown",
   "metadata": {},
   "source": [
    "|Node| Old Auth | Old Hub | New Auth | New Hub |\n",
    "|-|----------|---------|----------|---------|\n",
    "|A|3/15|1/15|4/15||\n",
    "|B|2/15|2/15|6/15||\n",
    "|C|5/15|1/15|12/15||\n",
    "|D|2/15|2/15|5/15||\n",
    "|E|1/15|4/15|2/15||\n",
    "|F|1/15|2/15|4/15||\n",
    "|G|0/15|2/15|0||\n",
    "|H|1/15|1/15|2/15||\n",
    "\n",
    "New Auth"
   ]
  },
  {
   "cell_type": "markdown",
   "metadata": {},
   "source": [
    "![](images/3-5.3.png)"
   ]
  },
  {
   "cell_type": "markdown",
   "metadata": {},
   "source": [
    "for A, $\\frac{1}{15}+\\frac{2}{15}+\\frac{1}{15} = \\frac{4}{15} $\n",
    "\n",
    "New Hub:\n",
    "\n",
    "![](images/3-5.5.png)"
   ]
  },
  {
   "cell_type": "markdown",
   "metadata": {},
   "source": [
    "|Node| Old Auth | Old Hub | New Auth | New Hub |\n",
    "|-|----------|---------|----------|---------|\n",
    "|A|3/15|1/15|4/15|2/15|\n",
    "|B|2/15|2/15|6/15|2/5|\n",
    "|C|5/15|1/15|12/15|1/5|\n",
    "|D|2/15|2/15|5/15|7/15|\n",
    "|E|1/15|4/15|2/15|2/3|\n",
    "|F|1/15|2/15|4/15|2/5|\n",
    "|G|0/15|2/15|0|8/15|\n",
    "|H|1/15|1/15|2/15|1/5|\n",
    "\n",
    "* Normalize\n",
    "\n",
    "![](images/3-5.6.png)\n",
    "\n",
    "![](images/3-5.7.png)"
   ]
  },
  {
   "cell_type": "code",
   "execution_count": 13,
   "metadata": {},
   "outputs": [
    {
     "data": {
      "text/plain": [
       "0.34285714285714286"
      ]
     },
     "execution_count": 13,
     "metadata": {},
     "output_type": "execute_result"
    }
   ],
   "source": [
    "(12/15)/(35/15)"
   ]
  },
  {
   "cell_type": "code",
   "execution_count": 14,
   "metadata": {},
   "outputs": [
    {
     "data": {
      "text/plain": [
       "0.34285714285714286"
      ]
     },
     "execution_count": 14,
     "metadata": {},
     "output_type": "execute_result"
    }
   ],
   "source": [
    "12/35"
   ]
  },
  {
   "cell_type": "markdown",
   "metadata": {},
   "source": [
    "* Final Score\n",
    "\n",
    "![](images/3-5.8.png)"
   ]
  },
  {
   "cell_type": "markdown",
   "metadata": {},
   "source": [
    "### HITS algorithm converges\n",
    "\n",
    "\n",
    "![](images/3-5.9.png)\n",
    "\n",
    "![](images/3-5.10.png)\n",
    "\n",
    "\n",
    "![](images/3-5.11.png)"
   ]
  },
  {
   "cell_type": "markdown",
   "metadata": {},
   "source": [
    "Networkx function `hits(G)` to compute hub and authority"
   ]
  }
 ],
 "metadata": {
  "kernelspec": {
   "display_name": "Python 3",
   "language": "python",
   "name": "python3"
  },
  "language_info": {
   "codemirror_mode": {
    "name": "ipython",
    "version": 3
   },
   "file_extension": ".py",
   "mimetype": "text/x-python",
   "name": "python",
   "nbconvert_exporter": "python",
   "pygments_lexer": "ipython3",
   "version": "3.6.6"
  }
 },
 "nbformat": 4,
 "nbformat_minor": 2
}
