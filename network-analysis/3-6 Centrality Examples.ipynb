{
 "cells": [
  {
   "cell_type": "markdown",
   "metadata": {},
   "source": [
    "# Centrality Examples"
   ]
  },
  {
   "cell_type": "markdown",
   "metadata": {},
   "source": [
    "## Comparing centrality measrue\n",
    "\n",
    "\n",
    "![](images/3-6.1.png)\n",
    "\n",
    "* In Degree - number of nodes connected\n",
    "* Closeness - closeness centrality says that nodes who are central are a short distance away from all the other nodes in the network\n",
    "* Betweeness - $C_{btw}(v) = \\sum_{s,t\\in N}\\frac{\\sigma_{s,t}(v)}{\\sigma_{s,t}}$\n",
    "\n",
    "\n",
    "\n",
    "|In-Deg|Closeness|Betweenness|PageRank|  Auth  |  Hub  |\n",
    "|------|---------|-----------|-----------|-----------|-----------|\n",
    "|**1**|___**5**___|___**5**___|1|1|2|\n",
    "|___**6**___|1|1|___**6**___|___**6**___|5|\n",
    "|2|___**6**___|___**6**___|___**5**___|4|___7___|\n",
    "|3|2|2|2|__**9**__|3|\n",
    "|4|3|___7___|___7___|3|___8___|\n",
    "|5|7|3|3|___8___|4|\n",
    "|7|___8___|___8___|___8___|2|__9__|\n",
    "|8|4|4|4|___7___|1|\n",
    "|9|9|9|9|5|6|\n",
    "\n",
    "![](images/3-6.2.png)"
   ]
  },
  {
   "cell_type": "code",
   "execution_count": null,
   "metadata": {},
   "outputs": [],
   "source": []
  }
 ],
 "metadata": {
  "kernelspec": {
   "display_name": "Python 3",
   "language": "python",
   "name": "python3"
  },
  "language_info": {
   "codemirror_mode": {
    "name": "ipython",
    "version": 3
   },
   "file_extension": ".py",
   "mimetype": "text/x-python",
   "name": "python",
   "nbconvert_exporter": "python",
   "pygments_lexer": "ipython3",
   "version": "3.6.6"
  }
 },
 "nbformat": 4,
 "nbformat_minor": 2
}
