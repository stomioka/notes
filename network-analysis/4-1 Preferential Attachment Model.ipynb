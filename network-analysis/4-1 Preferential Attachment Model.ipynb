{
 "cells": [
  {
   "cell_type": "markdown",
   "metadata": {},
   "source": [
    "# Preferential Attachment Model\n",
    "\n",
    "## Degree Distribution\n",
    "\n",
    "The **degree** of a node in an undirected graph is the number of neighbours it has.\n",
    "\n",
    "![](images/4-1.1.png)\n",
    "\n",
    "The **degree distribution** of a graph is the probability distribution of the degrees over the entire network.\n",
    "The degree distribution, $P(k)$, of this network has the following values:\n",
    "\n",
    "$P(1)=\\frac{1}{9}, P(2)=\\frac{4}{9}, P(3)=\\frac{1}{3}, P(4)=\\frac{1}{9}$"
   ]
  },
  {
   "cell_type": "markdown",
   "metadata": {},
   "source": [
    "### Plot of the degree distribution of this network"
   ]
  },
  {
   "cell_type": "code",
   "execution_count": 2,
   "metadata": {},
   "outputs": [],
   "source": [
    "import networkx as nx\n",
    "import matplotlib as plt\n",
    "%matplotlib widget\n",
    "\n",
    "G = nx.Graph()"
   ]
  },
  {
   "cell_type": "markdown",
   "metadata": {},
   "source": [
    "**add node/edge pairs**"
   ]
  },
  {
   "cell_type": "code",
   "execution_count": 3,
   "metadata": {},
   "outputs": [
    {
     "data": {
      "application/vnd.jupyter.widget-view+json": {
       "model_id": "cea37dbc7fb94d37adb00fd0f721514a",
       "version_major": 2,
       "version_minor": 0
      },
      "text/plain": [
       "FigureCanvasNbAgg()"
      ]
     },
     "metadata": {},
     "output_type": "display_data"
    }
   ],
   "source": [
    "G.add_edges_from([('A','B'),('A','G'),('A','H'),('B','C'),('C','D'),('C','E'),('D','F'),('F','G'),('F','I'),('G','I'),('G','H')])\n",
    "pos = nx.spring_layout(G)\n",
    "nx.draw_networkx(G,pos)"
   ]
  },
  {
   "cell_type": "code",
   "execution_count": 4,
   "metadata": {},
   "outputs": [
    {
     "data": {
      "text/plain": [
       "{'A': 3, 'B': 2, 'G': 4, 'H': 2, 'C': 3, 'D': 2, 'E': 1, 'F': 3, 'I': 2}"
      ]
     },
     "execution_count": 4,
     "metadata": {},
     "output_type": "execute_result"
    }
   ],
   "source": [
    "degrees=G.degree()\n",
    "dict(degrees)"
   ]
  },
  {
   "cell_type": "code",
   "execution_count": 5,
   "metadata": {},
   "outputs": [
    {
     "data": {
      "text/plain": [
       "[1, 2, 3, 4]"
      ]
     },
     "execution_count": 5,
     "metadata": {},
     "output_type": "execute_result"
    }
   ],
   "source": [
    "sorted(set(dict(degrees).values()))"
   ]
  },
  {
   "cell_type": "code",
   "execution_count": 6,
   "metadata": {},
   "outputs": [
    {
     "data": {
      "application/vnd.jupyter.widget-view+json": {
       "model_id": "003d0a4954fd44ff89e92fba5d6d3119",
       "version_major": 2,
       "version_minor": 0
      },
      "text/plain": [
       "FigureCanvasNbAgg()"
      ]
     },
     "metadata": {},
     "output_type": "display_data"
    }
   ],
   "source": [
    "import matplotlib.pyplot as plt2\n",
    "\n",
    "degrees=G.degree()\n",
    "degree_values=sorted(set(dict(degrees).values()))\n",
    "histogram=[list(dict(degrees).values()).count(i)/float(nx.number_of_nodes(G)) for i in degree_values]\n",
    "plt2.figure(figsize=(8,8))\n",
    "plt2.bar(degree_values, histogram)\n",
    "plt2.xlabel('Degree')\n",
    "plt2.ylabel('Fraction of Nodes')\n",
    "plt2.show()"
   ]
  },
  {
   "cell_type": "markdown",
   "metadata": {},
   "source": [
    "## In Degree Distribution\n",
    "\n",
    "The **in degree** of a node in an directed graph is the number of in-links it has.\n",
    "\n",
    "![](images/4-1.1.png)\n",
    "\n",
    "The **in-degree distribution**, $P(k)$, of this network has the following values:\n",
    "\n",
    "$P(0)=\\frac{2}{9}, P(1)=\\frac{4}{9}, P(2)=\\frac{2}{9}, P(3)=\\frac{1}{9}$"
   ]
  },
  {
   "cell_type": "code",
   "execution_count": 7,
   "metadata": {},
   "outputs": [
    {
     "data": {
      "application/vnd.jupyter.widget-view+json": {
       "model_id": "f8fe45d99629475f8a6ae794ad70df96",
       "version_major": 2,
       "version_minor": 0
      },
      "text/plain": [
       "FigureCanvasNbAgg()"
      ]
     },
     "metadata": {},
     "output_type": "display_data"
    }
   ],
   "source": [
    "G1=nx.DiGraph()\n",
    "G1.add_edges_from([('B','A'),('C','B'),('D','C'),('E','C'),('F','I'),('F','D'),('G','A'),('G','F'),('G','I'),('H','A'),('H','G')])\n",
    "pos = nx.spring_layout(G1)\n",
    "plt2.figure()\n",
    "nx.draw_networkx(G1,pos)"
   ]
  },
  {
   "cell_type": "code",
   "execution_count": 8,
   "metadata": {},
   "outputs": [
    {
     "data": {
      "application/vnd.jupyter.widget-view+json": {
       "model_id": "5a61af682316412696beb3db05ac0df2",
       "version_major": 2,
       "version_minor": 0
      },
      "text/plain": [
       "FigureCanvasNbAgg()"
      ]
     },
     "metadata": {},
     "output_type": "display_data"
    }
   ],
   "source": [
    "indegrees=G1.in_degree()\n",
    "indegree_values=sorted(set(dict(indegrees).values()))\n",
    "histogram=[list(dict(indegrees).values()).count(i)/float(nx.number_of_nodes(G)) for i in indegree_values]\n",
    "plt2.figure(figsize=(8,8))\n",
    "plt2.bar(indegree_values, histogram)\n",
    "plt2.xlabel('In Degree')\n",
    "plt2.ylabel('Fraction of Nodes')\n",
    "plt2.show()"
   ]
  },
  {
   "cell_type": "markdown",
   "metadata": {},
   "source": [
    "## Degree Distributions in Real Networks\n",
    "\n",
    "![](images/4-1.3.png)\n",
    "\n",
    "* A - **Actors:** - Network of 225,000 actors connected when they appear in a movie together.\n",
    "* B - **The Web** - Network of 325,000 documents on the WWW connected by URLs\n",
    "* C - **US Power Grid:** - Network of 4941 generators connected by transmission lines\n",
    "\n",
    "Degree distribution look like a straight line when on a log-log scale. **Power law**: $P(k) = Ck^{-\\alpha}$, where $\\alpha$ and $C$ are constants. $\\alpha$ values: A: 2.3, B: 2.1, C:4\n",
    "\n",
    "**Power law degree distributions** is that they tend to have most of the nodes with very, very small degree, but you have a few nodes that accumulate a very, very large degree.\n",
    "\n",
    "## Modeling Networks\n",
    "\n",
    "* Networks with power law distribution have many nodes with small degree and a few nodes with very large degree.\n",
    "* What could explaion power law degree distribution we observe in many networks?\n",
    "* Can we find a set of basic assumptions that explain this phenomenon?\n",
    "\n",
    "## Preferential Attachment Model\n",
    "\n",
    "* Start with two nodes connected y an edge\n",
    "* At each time step connectin it to an existing node\n",
    "* Choose the node to connect to at random with probability proportioinal to each node's degree.\n",
    "* The probability of connecting to a node $u$ of degree $k_{u}$ is $\\frac{K_{u}}{\\sum_{j}K_{j}}$\n",
    "\n",
    "${\\sum_{j}K_{j}}$ is the total number of edges in both directions\n",
    "\n",
    "![](images/4-1.4.png)\n",
    "![](images/4-1.5.png)\n",
    "![](images/4-1.6.png)\n",
    "![](images/4-1.7.png)\n",
    "![](images/4-1.8.png)\n",
    "![](images/4-1.9.png)\n",
    "![](images/4-1.10.png)\n",
    "![](images/4-1.11.png)\n",
    "![](images/4-1.12.png)\n",
    "![](images/4-1.13.png)\n",
    "![](images/4-1.14.png)\n",
    "![](images/4-1.15.png)\n",
    "![](images/4-1.16.png)\n",
    "![](images/4-1.17.png)\n",
    "![](images/4-1.18.png)\n",
    "![](images/4-1.19.png)\n",
    "![](images/4-1.20.png)\n",
    "The degree of node 3 is 2 and the sum of all nodes’ degrees is 12. Hence p = 2/12 = 0.1666667\n",
    "\n",
    "![](images/4-1.21.png)"
   ]
  },
  {
   "cell_type": "markdown",
   "metadata": {},
   "source": [
    "## Preferential Attachment in NetworkX\n",
    "\n",
    "`barabasi_albert_graph(n.m)` returns a network with n nodes. Each new node attaches to m existing nodes according to the Preferential Attachment model.\n"
   ]
  },
  {
   "cell_type": "code",
   "execution_count": 9,
   "metadata": {},
   "outputs": [
    {
     "data": {
      "application/vnd.jupyter.widget-view+json": {
       "model_id": "f716900da8c24d109c8174790fe3a465",
       "version_major": 2,
       "version_minor": 0
      },
      "text/plain": [
       "FigureCanvasNbAgg()"
      ]
     },
     "metadata": {},
     "output_type": "display_data"
    }
   ],
   "source": [
    "G=nx.barabasi_albert_graph(1000000,1)\n",
    "import matplotlib.pyplot as plt2\n",
    "\n",
    "degrees=G.degree()\n",
    "degree_values=sorted(set(dict(degrees).values()))\n",
    "histogram=[list(dict(degrees).values()).count(i)/float(nx.number_of_nodes(G)) for i in degree_values]\n",
    "plt2.figure(figsize=(8,8))\n",
    "plt2.plot(degree_values, histogram,'o')\n",
    "\n",
    "\n",
    "plt2.xlabel('Degree')\n",
    "plt2.ylabel('Fraction of Nodes')\n",
    "plt2.xscale('log')\n",
    "plt2.yscale('log')\n",
    "plt2.show()"
   ]
  },
  {
   "cell_type": "code",
   "execution_count": null,
   "metadata": {},
   "outputs": [],
   "source": []
  }
 ],
 "metadata": {
  "kernelspec": {
   "display_name": "Python 3",
   "language": "python",
   "name": "python3"
  },
  "language_info": {
   "codemirror_mode": {
    "name": "ipython",
    "version": 3
   },
   "file_extension": ".py",
   "mimetype": "text/x-python",
   "name": "python",
   "nbconvert_exporter": "python",
   "pygments_lexer": "ipython3",
   "version": "3.6.6"
  }
 },
 "nbformat": 4,
 "nbformat_minor": 2
}
