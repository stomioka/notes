{
 "cells": [
  {
   "cell_type": "markdown",
   "metadata": {},
   "source": [
    "full book \n",
    "    \n",
    "[D. Easley, J. Kleinberg. Networks, Crowds, and Markets: Reasoning About a Highly Connected World. Cambridge University Press, 2010](https://www.cs.cornell.edu/home/kleinber/networks-book/networks-book.pdf)"
   ]
  },
  {
   "cell_type": "markdown",
   "metadata": {},
   "source": [
    "# Power Laws and Rich-Get-Richer Phenomena\n",
    "\n",
    "\n",
    "\n",
    "## Popularity as a Network Phenomenon\n",
    "\n",
    "* Network approach to analyze the general notion of *popularity*\n",
    "* Popularity is a phenomenon characterized by extreme imbalances: \n",
    "  * How can we quantify these imbalances?\n",
    "  * WHy do they arise?\n",
    "  * Are they somehow intrinsic to the whiole idea of popularity?\n",
    "  \n",
    "  * **Example**\n",
    "  \n",
    "  Web ---- full set of links pointing to a given Web page --- in-links to the page\n",
    "  \n",
    "  Use the number of in-links to a Web page as a measure of the page's popularity --- one example\n",
    "  \n",
    "  *As a function of k, what fraction of pages on the Web have k in -links?* - larger $k$ indicate greater popularity\n",
    "  \n",
    "  ### A simple Hypothesis: THe Normal Distribution\n",
    "  \n",
    "  * The **Central Limit Theorem** says that if we take any sequence of small independent random quantities, then in the limit their sum (or average) will be distributed according to the normal distribution.\n",
    "  \n",
    "  * This can be apply to Web pages - Assume that each page decides independently at random whether to link to any other fiven page, then the number of in-links to a fiven page is the sum of many independent random quantiles.  If we believe this model, then the number of pages with $k$ in-links should decrease exponentially in $k$, as $k$ grows large"
   ]
  },
  {
   "cell_type": "markdown",
   "metadata": {},
   "source": [
    "## Power Laws\n",
    "\n",
    "* THe Web Page dows not follow the **Central Limit Theorem**\n",
    "* The fraction of Web pages that have $k$ in-links is approximately proportional to $\\frac{1}{k^2}$. The crucial point is that $\\frac{1}{k^2}$ decreases much more slowly as $k$ increases, so pages with very large numbers of in-links are much more common than we’d expect with a normal distribution.\n",
    "\n",
    "* Example\n",
    "\n",
    " $\\frac{1}{k^2}$ is only one in a million for $k = 1000$, while an exponentially decaying function like $2^{−k}$ is unimaginably tiny for $k = 1000$.\n",
    " \n",
    "* **Power Law** - A function that decreases as $k$ to some fixed power, such as  $2^{−k}$ in the present case; when used to measure the fraction of items having value k, it says, qualitatively, that it’s possible to see very large values of $k$.\n",
    "\n",
    "Other Examples:\n",
    "\n",
    "* the fraction of telephone numbers that receive $k$ calls per day is roughly proportional to $\\frac{1}{k^2}$; \n",
    "* the fraction of books that are bought by $k$ people is roughly proportional to $\\frac{1}{k^3}$; \n",
    "* the fraction of scientific papers that receive $k$ citations in total is roughly proportional to $\\frac{1}{k^3}$\n",
    "\n",
    "![](images\\4-2.1.png)\n",
    "\n",
    "* Simple method for whether a dataset exhibits **a power law distribution**\n",
    "\n",
    "Whether $f(k)=\\frac{a}{k^{c}}$ approximately holds, for some exponent $c$ and constant of proportionality $a$.\n",
    "Re-write this as $f(k)=ak^{-c}$ and take the logarithms of both sides of this equation, we get $logf(k)=log a - clog k$. \n",
    "It tells us that -c will be the slope, and log a will be the y-intercept, so if we have a power law relationship, the plot of $logf(k)$ as a function of log k, we should see a straight line (as seen in Firugre 18.2)\n"
   ]
  },
  {
   "cell_type": "code",
   "execution_count": null,
   "metadata": {},
   "outputs": [],
   "source": []
  }
 ],
 "metadata": {
  "kernelspec": {
   "display_name": "Python 3",
   "language": "python",
   "name": "python3"
  },
  "language_info": {
   "codemirror_mode": {
    "name": "ipython",
    "version": 3
   },
   "file_extension": ".py",
   "mimetype": "text/x-python",
   "name": "python",
   "nbconvert_exporter": "python",
   "pygments_lexer": "ipython3",
   "version": "3.6.6"
  }
 },
 "nbformat": 4,
 "nbformat_minor": 2
}
