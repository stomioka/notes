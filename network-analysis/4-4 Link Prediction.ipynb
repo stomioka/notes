{
 "cells": [
  {
   "cell_type": "markdown",
   "metadata": {},
   "source": [
    "# Link Prediction "
   ]
  },
  {
   "cell_type": "markdown",
   "metadata": {},
   "source": [
    "Modeling network evolution:\n",
    "\n",
    "* Preferential attachment model\n",
    "* small world model\n",
    "\n",
    "Link prediction: Given a network, can we predict which edges will be formed in the future?\n",
    "\n",
    "![](images/4-4.1.png)\n",
    "\n",
    "* What new edges are likly to form in this network?\n",
    "* GIven a pair of nodes, how to assess whether they are likly to connect?\n",
    "\n",
    "* **Triadic closure:** the tendency for people who sahre connections in a social network to become connected.\n",
    "\n",
    "\n",
    "## Measure 1: Common Neighbors\n",
    "\n",
    "THe number of common neighbors of nodes X and Y is \n",
    "\n",
    "$commonNeigh(X, Y) = |N(X)\\bigcap{N(Y)}|$,\n",
    "\n",
    "when $N(X)$ is the set of neighbors of node $X$\n",
    "\n",
    "$commonNeigh(A, C) = |{B,D}| =2$"
   ]
  },
  {
   "cell_type": "code",
   "execution_count": 18,
   "metadata": {},
   "outputs": [
    {
     "data": {
      "application/vnd.jupyter.widget-view+json": {
       "model_id": "acbbab6441a244469e3d7bc96addcfb8",
       "version_major": 2,
       "version_minor": 0
      },
      "text/plain": [
       "FigureCanvasNbAgg()"
      ]
     },
     "metadata": {},
     "output_type": "display_data"
    }
   ],
   "source": [
    "import networkx as nx\n",
    "import matplotlib.pyplot as plt\n",
    "import operator\n",
    "%matplotlib widget\n",
    "\n",
    "G=nx.Graph()\n",
    "G.add_edges_from([('A','B'),('B','C'),('A','D'),('A','E'),('B','D'),('D','C'),('C','F'),('F','E'),('F','G'),('E','G'),('G','H'),('G','I')])\n",
    "plt.figure(1)\n",
    "pos = nx.spring_layout(G)\n",
    "nx.draw_networkx(G, pos) \n"
   ]
  },
  {
   "cell_type": "code",
   "execution_count": 19,
   "metadata": {},
   "outputs": [
    {
     "name": "stdout",
     "output_type": "stream",
     "text": [
      "[('A', 'C', 2), ('A', 'F', 1), ('A', 'H', 0), ('A', 'I', 0), ('A', 'G', 1), ('C', 'G', 1), ('C', 'H', 0), ('C', 'E', 1), ('C', 'I', 0), ('F', 'H', 1), ('F', 'D', 1), ('F', 'B', 1), ('F', 'I', 1), ('H', 'I', 1), ('H', 'D', 0), ('H', 'E', 1), ('H', 'B', 0), ('I', 'D', 0), ('I', 'E', 1), ('I', 'B', 0), ('E', 'D', 1), ('E', 'B', 1), ('D', 'G', 0), ('B', 'G', 0)]\n"
     ]
    }
   ],
   "source": [
    "common_neigh= [(e[0],e[1], len(list(nx.common_neighbors(G,e[0],e[1])))) for e in nx.non_edges(G)]\n",
    "sorted(common_neigh , key= operator.itemgetter(2), reverse=True)\n",
    "print(common_neigh)"
   ]
  },
  {
   "cell_type": "markdown",
   "metadata": {},
   "source": [
    "Which edge would form more likely - A and G, H and I?\n",
    "\n",
    "[('A', 'C', 2), ('A', 'F', 1), ('A', 'H', 0), ('A', 'I', 0), **('A', 'G', 1)**, ('C', 'G', 1), ('C', 'H', 0), ('C', 'E', 1), ('C', 'I', 0), ('F', 'H', 1), ('F', 'D', 1), ('F', 'B', 1), ('F', 'I', 1), **('H', 'I', 1)**, ('H', 'D', 0), ('H', 'E', 1), ('H', 'B', 0), ('I', 'D', 0), ('I', 'E', 1), ('I', 'B', 0), ('E', 'D', 1), ('E', 'B', 1), ('D', 'G', 0), ('B', 'G', 0)]"
   ]
  },
  {
   "cell_type": "markdown",
   "metadata": {},
   "source": [
    "# Measure 2: Jaccard Coefficient\n",
    "\n",
    "* Number of common neighbors normalized by the total number of neighbors\n",
    "\n",
    "The Jaccard coefficient of nodes X and Y is\n",
    "\n",
    "$jaccCoeff(X, Y) = \\frac{N(X)\\bigcap{N(Y)}}{N(X)\\bigcup{N(Y)}}$\n",
    "\n",
    "$jaccCoeff(A, C) = \\frac{N(A)\\bigcap{N(C)}}{N(A)\\bigcup{N(C)}} = \\frac{|\\{B,D\\}|}{|\\{B, D, E, F\\}|}= \\frac{2}{4}= \\frac{1}{2}$\n",
    "\n",
    "![](images/4-4.2.png)"
   ]
  },
  {
   "cell_type": "markdown",
   "metadata": {},
   "source": [
    "What is the Jaccard Coefficient between node A and F?\n",
    "\n",
    "$jaccCoeff(A,F)=\\frac{|\\{E\\}|}{|\\{E,G,D,B,C\\}|}=\\frac{1}{5}$"
   ]
  },
  {
   "cell_type": "code",
   "execution_count": 21,
   "metadata": {},
   "outputs": [
    {
     "name": "stdout",
     "output_type": "stream",
     "text": [
      "[('H', 'I', 1.0), ('A', 'C', 0.5), ('F', 'H', 0.3333333333333333), ('F', 'I', 0.3333333333333333), ('H', 'E', 0.3333333333333333), ('I', 'E', 0.3333333333333333), ('A', 'F', 0.2), ('C', 'E', 0.2), ('F', 'D', 0.2), ('F', 'B', 0.2), ('E', 'D', 0.2), ('E', 'B', 0.2), ('A', 'G', 0.16666666666666666), ('C', 'G', 0.16666666666666666), ('A', 'H', 0.0), ('A', 'I', 0.0), ('C', 'H', 0.0), ('C', 'I', 0.0), ('H', 'D', 0.0), ('H', 'B', 0.0), ('I', 'D', 0.0), ('I', 'B', 0.0), ('D', 'G', 0.0), ('B', 'G', 0.0)]\n"
     ]
    }
   ],
   "source": [
    "L=list(nx.jaccard_coefficient(G))\n",
    "L.sort(key=operator.itemgetter(2), reverse=True)\n",
    "print(L)"
   ]
  },
  {
   "cell_type": "markdown",
   "metadata": {},
   "source": [
    "H and I has higher Jaccard Coefficient, A and G has lower Jaccard Coefficient because I and H are both connected to a single neighbor which is a common neighbor G. Whereas the nodes A and G, they have one common neighbor, but they have more neighbors that are in the union of the neighbors of A and G. And so, therefore, they have a lower Jaccard coefficient. \n",
    "\n",
    "[**('H', 'I', 1.0)**, ('A', 'C', 0.5), ('F', 'H', 0.3333333333333333), ('F', 'I', 0.3333333333333333), ('H', 'E', 0.3333333333333333), ('I', 'E', 0.3333333333333333), ('A', 'F', 0.2), ('C', 'E', 0.2), ('F', 'D', 0.2), ('F', 'B', 0.2), ('E', 'D', 0.2), ('E', 'B', 0.2), **('A', 'G', 0.16666666666666666)**, ('C', 'G', 0.16666666666666666), ('A', 'H', 0.0), ('A', 'I', 0.0), ('C', 'H', 0.0), ('C', 'I', 0.0), ('H', 'D', 0.0), ('H', 'B', 0.0), ('I', 'D', 0.0), ('I', 'B', 0.0), ('D', 'G', 0.0), ('B', 'G', 0.0)]"
   ]
  },
  {
   "cell_type": "markdown",
   "metadata": {},
   "source": [
    "## Measure 3: Resource Allocation\n",
    "\n",
    "* Fraction of a \"resource\" taht a node can send to another through their common neighbors.\n",
    "\n",
    "* The Resource Allocation index of nodes X and Y is\n",
    "\n",
    "$resAlloc(X, Y) = \\sum_{u\\in N(X)\\bigcap{N(Y)}}\\frac{1}{|N(u)|}$\n",
    "\n",
    "* if X and Y have a lot of common neighbors and they're going to have a large Resource Allocation index. \n",
    "\n",
    "* Z has n neighbors\n",
    "* X sends 1 unit to Z, Z distributes the unit evenly among all neighbors\n",
    "$\\to$ Y receives 1/n of the unit.\n",
    "\n",
    "![](images/4-4.3.png)\n",
    "\n",
    "* **Example**: \n",
    "\n",
    "$\\frac{1}{3}$ for degree of Node B, $\\frac{1}{3}$  for degree of Node D, \n",
    "$redAlloc(A, C) = \\frac{1}{3} +  \\frac{1}{3} $\n",
    "\n",
    "What is the Resource Allocation index of Node I and H?\n",
    "\n",
    "Node I and H have only one common neighbor: G. The degree of node G is 4. Hence the Resource Allocation index is ¼ = 0.25."
   ]
  },
  {
   "cell_type": "code",
   "execution_count": 23,
   "metadata": {},
   "outputs": [
    {
     "name": "stdout",
     "output_type": "stream",
     "text": [
      "[('A', 'C', 0.6666666666666666), ('A', 'F', 0.3333333333333333), ('A', 'G', 0.3333333333333333), ('C', 'G', 0.3333333333333333), ('C', 'E', 0.3333333333333333), ('F', 'D', 0.3333333333333333), ('F', 'B', 0.3333333333333333), ('E', 'D', 0.3333333333333333), ('E', 'B', 0.3333333333333333), ('F', 'H', 0.25), ('F', 'I', 0.25), ('H', 'I', 0.25), ('H', 'E', 0.25), ('I', 'E', 0.25), ('A', 'H', 0), ('A', 'I', 0), ('C', 'H', 0), ('C', 'I', 0), ('H', 'D', 0), ('H', 'B', 0), ('I', 'D', 0), ('I', 'B', 0), ('D', 'G', 0), ('B', 'G', 0)]\n"
     ]
    }
   ],
   "source": [
    "L = list(nx.resource_allocation_index(G))\n",
    "L.sort(key=operator.itemgetter(2),reverse=True)\n",
    "print(L)"
   ]
  },
  {
   "cell_type": "markdown",
   "metadata": {},
   "source": [
    "[('A', 'C', 0.6666666666666666), ('A', 'F', 0.3333333333333333), **('A', 'G', 0.3333333333333333)**, ('C', 'G', 0.3333333333333333), ('C', 'E', 0.3333333333333333), ('F', 'D', 0.3333333333333333), ('F', 'B', 0.3333333333333333), ('E', 'D', 0.3333333333333333), ('E', 'B', 0.3333333333333333), ('F', 'H', 0.25), ('F', 'I', 0.25), **('H', 'I', 0.25)**, ('H', 'E', 0.25), ('I', 'E', 0.25), ('A', 'H', 0), ('A', 'I', 0), ('C', 'H', 0), ('C', 'I', 0), ('H', 'D', 0), ('H', 'B', 0), ('I', 'D', 0), ('I', 'B', 0), ('D', 'G', 0), ('B', 'G', 0)]"
   ]
  },
  {
   "cell_type": "markdown",
   "metadata": {},
   "source": [
    "## Measure 4: Adamic Adar Index\n",
    "\n",
    "* Similar to resouce allcoation index, but with log in the denominator.\n",
    "\n",
    "* The Adamic-Adar index of nodes X and Y is \n",
    "\n",
    "$resAlloc(X, Y) = \\sum_{u\\in N(X)\\bigcap{N(Y)}}\\frac{1}{log(|N(u)|)}$\n",
    "\n",
    "![](images/4-4.2.png)\n",
    "\n",
    "$adamicAdar(A,C) =\\frac{1}{log(3)}+\\frac{1}{log(3)}$ "
   ]
  },
  {
   "cell_type": "code",
   "execution_count": 24,
   "metadata": {},
   "outputs": [
    {
     "name": "stdout",
     "output_type": "stream",
     "text": [
      "[('A', 'C', 1.8204784532536746), ('A', 'F', 0.9102392266268373), ('A', 'G', 0.9102392266268373), ('C', 'G', 0.9102392266268373), ('C', 'E', 0.9102392266268373), ('F', 'D', 0.9102392266268373), ('F', 'B', 0.9102392266268373), ('E', 'D', 0.9102392266268373), ('E', 'B', 0.9102392266268373), ('F', 'H', 0.7213475204444817), ('F', 'I', 0.7213475204444817), ('H', 'I', 0.7213475204444817), ('H', 'E', 0.7213475204444817), ('I', 'E', 0.7213475204444817), ('A', 'H', 0), ('A', 'I', 0), ('C', 'H', 0), ('C', 'I', 0), ('H', 'D', 0), ('H', 'B', 0), ('I', 'D', 0), ('I', 'B', 0), ('D', 'G', 0), ('B', 'G', 0)]\n"
     ]
    }
   ],
   "source": [
    "L = list(nx.adamic_adar_index(G))\n",
    "L.sort(key=operator.itemgetter(2),reverse=True)\n",
    "print(L)"
   ]
  },
  {
   "cell_type": "markdown",
   "metadata": {},
   "source": [
    "\n",
    "[('A', 'C', 1.8204784532536746), ('A', 'F', 0.9102392266268373), **('A', 'G', 0.9102392266268373)**, ('C', 'G', 0.9102392266268373), ('C', 'E', 0.9102392266268373), ('F', 'D', 0.9102392266268373), ('F', 'B', 0.9102392266268373), ('E', 'D', 0.9102392266268373), ('E', 'B', 0.9102392266268373), ('F', 'H', 0.7213475204444817), ('F', 'I', 0.7213475204444817), **('H', 'I', 0.7213475204444817)**, ('H', 'E', 0.7213475204444817), ('I', 'E', 0.7213475204444817), ('A', 'H', 0), ('A', 'I', 0), ('C', 'H', 0), ('C', 'I', 0), ('H', 'D', 0), ('H', 'B', 0), ('I', 'D', 0), ('I', 'B', 0), ('D', 'G', 0), ('B', 'G', 0)]"
   ]
  },
  {
   "cell_type": "markdown",
   "metadata": {},
   "source": [
    "# Measure 5: Preferential Attachment\n",
    "\n",
    "* In the preferential attachment model, nodes with high degree get more neighbors.\n",
    "\n",
    "* Product of the nodes' degree\n",
    "* The preferential attachment score of nodes X and Y is\n",
    "\n",
    "$prefAttach(X,Y) = |N(X)||N(Y)|$\n",
    "\n",
    "Pref_attach (A,C) = 3*3 =9"
   ]
  },
  {
   "cell_type": "code",
   "execution_count": 25,
   "metadata": {},
   "outputs": [
    {
     "name": "stdout",
     "output_type": "stream",
     "text": [
      "[('A', 'G', 12), ('C', 'G', 12), ('D', 'G', 12), ('B', 'G', 12), ('A', 'C', 9), ('A', 'F', 9), ('C', 'E', 9), ('F', 'D', 9), ('F', 'B', 9), ('E', 'D', 9), ('E', 'B', 9), ('A', 'H', 3), ('A', 'I', 3), ('C', 'H', 3), ('C', 'I', 3), ('F', 'H', 3), ('F', 'I', 3), ('H', 'D', 3), ('H', 'E', 3), ('H', 'B', 3), ('I', 'D', 3), ('I', 'E', 3), ('I', 'B', 3), ('H', 'I', 1)]\n"
     ]
    }
   ],
   "source": [
    "L = list(nx.preferential_attachment(G))\n",
    "L.sort(key=operator.itemgetter(2),reverse=True)\n",
    "print(L)"
   ]
  },
  {
   "cell_type": "markdown",
   "metadata": {},
   "source": [
    "[**('A', 'G', 12)**, ('C', 'G', 12), ('D', 'G', 12), ('B', 'G', 12), ('A', 'C', 9), ('A', 'F', 9), ('C', 'E', 9), ('F', 'D', 9), ('F', 'B', 9), ('E', 'D', 9), ('E', 'B', 9), ('A', 'H', 3), ('A', 'I', 3), ('C', 'H', 3), ('C', 'I', 3), ('F', 'H', 3), ('F', 'I', 3), ('H', 'D', 3), ('H', 'E', 3), ('H', 'B', 3), ('I', 'D', 3), ('I', 'E', 3), ('I', 'B', 3), **('H', 'I', 1)**]"
   ]
  },
  {
   "cell_type": "markdown",
   "metadata": {},
   "source": [
    "# Community Structure\n",
    "\n",
    "* Some measures consider the community structure of the network for link prediction.\n",
    "* Assume the nodes in this network belong to different communities (sets of ndoes).\n",
    "\n",
    "![](images/4-4.4.png)\n",
    "\n",
    "* Pairs of ndoes who belong to the same community and have many common neighbors in their community are likly to fom an edge.\n",
    "* NUmber of common neighbors with bonus for neighbors in same community.\n",
    "* The common Neighbor Soundarajan-Hopcroft score of nodes X and Y is\n",
    "\n",
    "## Measure 6: Community Common Neighbors\n",
    "\n",
    "$cnSoundarajanHopcroft(X, Y)= |N(X)\\bigcap{N(Y)}| + \\sum_{u \\in N(X)\\bigcap{N(u)}}F(u)$,\n",
    "\n",
    "where $f(u) =1, u in same common as X and Y \\\\ 0, otherwise$\n"
   ]
  },
  {
   "cell_type": "markdown",
   "metadata": {},
   "source": [
    "cnSoundarajanHopcroft(A, C)=2+2\n",
    "cnSoundarajanHopcroft(E,I)=1+1\n",
    "cnSoundarajanHopcroft(A, G)=1+0"
   ]
  },
  {
   "cell_type": "code",
   "execution_count": 27,
   "metadata": {},
   "outputs": [],
   "source": [
    "# assign nodes to communities with attribute node 'community'\n",
    "G.node['A']['community']=0\n",
    "G.node['B']['community']=0\n",
    "G.node['C']['community']=0\n",
    "G.node['D']['community']=0\n",
    "G.node['E']['community']=1\n",
    "G.node['F']['community']=1\n",
    "G.node['G']['community']=1\n",
    "G.node['H']['community']=1\n",
    "G.node['I']['community']=1\n"
   ]
  },
  {
   "cell_type": "code",
   "execution_count": 30,
   "metadata": {},
   "outputs": [
    {
     "name": "stdout",
     "output_type": "stream",
     "text": [
      "[('A', 'C', 4), ('F', 'H', 2), ('F', 'I', 2), ('H', 'I', 2), ('H', 'E', 2), ('I', 'E', 2), ('A', 'F', 1), ('A', 'G', 1), ('C', 'G', 1), ('C', 'E', 1), ('F', 'D', 1), ('F', 'B', 1), ('E', 'D', 1), ('E', 'B', 1), ('A', 'H', 0), ('A', 'I', 0), ('C', 'H', 0), ('C', 'I', 0), ('H', 'D', 0), ('H', 'B', 0), ('I', 'D', 0), ('I', 'B', 0), ('D', 'G', 0), ('B', 'G', 0)]\n"
     ]
    }
   ],
   "source": [
    "L= list(nx.cn_soundarajan_hopcroft(G))\n",
    "L.sort(key=operator.itemgetter(2), reverse=True)\n",
    "print(L)"
   ]
  },
  {
   "cell_type": "markdown",
   "metadata": {},
   "source": [
    "[('A', 'C', 4), ('F', 'H', 2), ('F', 'I', 2), **('H', 'I', 2)**, ('H', 'E', 2), ('I', 'E', 2), ('A', 'F', 1), **('A', 'G', 1)**, ('C', 'G', 1), ('C', 'E', 1), ('F', 'D', 1), ('F', 'B', 1), ('E', 'D', 1), ('E', 'B', 1), ('A', 'H', 0), ('A', 'I', 0), ('C', 'H', 0), ('C', 'I', 0), ('H', 'D', 0), ('H', 'B', 0), ('I', 'D', 0), ('I', 'B', 0), ('D', 'G', 0), ('B', 'G', 0)]"
   ]
  },
  {
   "cell_type": "markdown",
   "metadata": {},
   "source": [
    "# Measure 7: Community Resource Allocation\n",
    "\n",
    "* Similar to resource allocation index, but only considering nodes in the same community\n",
    "\n",
    "* The Resource Allcoation Soundarajan-Hopcroft score of nodes X and Y is:\n",
    "\n",
    "$raSoundarajanHopcroft(X,Y)=\\sum_{u\\in{N(X)}\\bigcap{N(Y)}}\\frac{f(u)}{|N(u)|'}$\n",
    "\n",
    "$f(u) = 1$ belongs to the community; 0 otherwise."
   ]
  },
  {
   "cell_type": "markdown",
   "metadata": {},
   "source": [
    "ra_soundarajan_hopcroft(A,C) = 1/3 + 1/3\n",
    "\n",
    "ra_soundarajan_hopcroft(E, I) = 1/4\n",
    "\n",
    "ra_soundarajan_hopcroft(A,G) =  0"
   ]
  },
  {
   "cell_type": "code",
   "execution_count": 34,
   "metadata": {},
   "outputs": [
    {
     "name": "stdout",
     "output_type": "stream",
     "text": [
      "[('A', 'C', 0.6666666666666666), ('F', 'H', 0.25), ('F', 'I', 0.25), ('H', 'I', 0.25), ('H', 'E', 0.25), ('I', 'E', 0.25), ('A', 'F', 0), ('A', 'H', 0), ('A', 'I', 0), ('A', 'G', 0), ('C', 'G', 0), ('C', 'H', 0), ('C', 'E', 0), ('C', 'I', 0), ('F', 'D', 0), ('F', 'B', 0), ('H', 'D', 0), ('H', 'B', 0), ('I', 'D', 0), ('I', 'B', 0), ('E', 'D', 0), ('E', 'B', 0), ('D', 'G', 0), ('B', 'G', 0)]\n"
     ]
    }
   ],
   "source": [
    "L=list(nx.ra_index_soundarajan_hopcroft(G))\n",
    "L.sort(key=operator.itemgetter(2), reverse=True)\n",
    "print(L)"
   ]
  },
  {
   "cell_type": "markdown",
   "metadata": {},
   "source": [
    "* **All these measures are often used as features in the training data for ML**"
   ]
  },
  {
   "cell_type": "code",
   "execution_count": null,
   "metadata": {},
   "outputs": [],
   "source": []
  }
 ],
 "metadata": {
  "kernelspec": {
   "display_name": "Python 3",
   "language": "python",
   "name": "python3"
  },
  "language_info": {
   "codemirror_mode": {
    "name": "ipython",
    "version": 3
   },
   "file_extension": ".py",
   "mimetype": "text/x-python",
   "name": "python",
   "nbconvert_exporter": "python",
   "pygments_lexer": "ipython3",
   "version": "3.6.6"
  }
 },
 "nbformat": 4,
 "nbformat_minor": 2
}
