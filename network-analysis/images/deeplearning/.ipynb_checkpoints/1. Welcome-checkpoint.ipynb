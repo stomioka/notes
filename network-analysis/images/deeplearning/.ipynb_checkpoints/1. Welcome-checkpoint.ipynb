{
 "cells": [
  {
   "cell_type": "markdown",
   "metadata": {},
   "source": [
    "# Welcome to the Deep Learning Specialization\n",
    "\n",
    "* AI is the new Electricity\n",
    "* Electricity had once transformed countless industries: transportation, manufacturing, healthcare, communications, and more\n",
    "* AI will now bring about an equaly big transformation.\n",
    "\n",
    "## What you will learn\n",
    "\n",
    "1. Neural Networks and Deep Learning\n",
    "2. Improving Deep Neural Networks: Hyperparameter tuning, Regularization and Optimization\n",
    "3. Structuing your Machine Learning project\n",
    "4. Concolutional Neural Networks (CNN)\n",
    "5. Natural Language Processing: Building sequence models (RNN, LSTM)\n"
   ]
  }
 ],
 "metadata": {
  "kernelspec": {
   "display_name": "Python 3",
   "language": "python",
   "name": "python3"
  },
  "language_info": {
   "codemirror_mode": {
    "name": "ipython",
    "version": 3
   },
   "file_extension": ".py",
   "mimetype": "text/x-python",
   "name": "python",
   "nbconvert_exporter": "python",
   "pygments_lexer": "ipython3",
   "version": "3.6.6"
  }
 },
 "nbformat": 4,
 "nbformat_minor": 2
}
