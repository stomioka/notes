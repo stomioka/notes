{
 "cells": [
  {
   "cell_type": "markdown",
   "metadata": {},
   "source": [
    "# What is a Neural Network?\n",
    "\n",
    "### Houseing Price Prediction\n",
    "\n",
    "![](images/2-1.png)\n",
    "\n",
    "![](images/2-2.png)\n",
    "\n",
    "![](images/2-3.png)\n",
    "\n",
    "Every input layer feature is interconnected with every hidden layer feature."
   ]
  },
  {
   "cell_type": "markdown",
   "metadata": {},
   "source": [
    "### Supervised Learning with Neural Networks\n",
    "\n",
    "\n",
    "![](images/2-4.png)\n",
    "\n",
    "![](images/2-5.png)\n",
    "\n",
    "\n",
    "\n",
    " "
   ]
  },
  {
   "cell_type": "markdown",
   "metadata": {},
   "source": [
    "### Why is Deep Learning taking off?\n"
   ]
  },
  {
   "cell_type": "code",
   "execution_count": null,
   "metadata": {},
   "outputs": [],
   "source": [
    "![](images/2-6.png)\n"
   ]
  }
 ],
 "metadata": {
  "kernelspec": {
   "display_name": "Python 3",
   "language": "python",
   "name": "python3"
  },
  "language_info": {
   "name": ""
  }
 },
 "nbformat": 4,
 "nbformat_minor": 2
}
