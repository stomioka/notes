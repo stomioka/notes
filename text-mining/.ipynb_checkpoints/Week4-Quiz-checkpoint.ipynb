{
 "cells": [
  {
   "cell_type": "markdown",
   "metadata": {},
   "source": [
    "# Quiz 1"
   ]
  },
  {
   "cell_type": "code",
   "execution_count": 1,
   "metadata": {},
   "outputs": [],
   "source": [
    "import nltk\n",
    "from nltk.corpus import wordnet as wn"
   ]
  },
  {
   "cell_type": "code",
   "execution_count": 8,
   "metadata": {},
   "outputs": [
    {
     "data": {
      "text/plain": [
       "[Synset('puppy.n.01'), Synset('puppy.n.02')]"
      ]
     },
     "execution_count": 8,
     "metadata": {},
     "output_type": "execute_result"
    }
   ],
   "source": [
    " wn.synsets('puppy') "
   ]
  },
  {
   "cell_type": "code",
   "execution_count": 9,
   "metadata": {},
   "outputs": [],
   "source": [
    "dog=wn.synset('dog.n.01')\n",
    "puppy=wn.synset('puppy.n.01')"
   ]
  },
  {
   "cell_type": "code",
   "execution_count": 11,
   "metadata": {},
   "outputs": [
    {
     "data": {
      "text/plain": [
       "[Synset('dog.n.01'), Synset('pup.n.01')]"
      ]
     },
     "execution_count": 11,
     "metadata": {},
     "output_type": "execute_result"
    }
   ],
   "source": [
    "puppy.hyponyms(),\n",
    "puppy.hypernyms()"
   ]
  },
  {
   "cell_type": "code",
   "execution_count": 14,
   "metadata": {},
   "outputs": [],
   "source": [
    "from nltk.corpus import wordnet_ic\n",
    "brown_ic = wordnet_ic.ic('ic-brown.dat')\n",
    "semcor_ic = wordnet_ic.ic('ic-semcor.dat')"
   ]
  },
  {
   "cell_type": "code",
   "execution_count": 15,
   "metadata": {},
   "outputs": [
    {
     "data": {
      "text/plain": [
       "0.8228777536050416"
      ]
     },
     "execution_count": 15,
     "metadata": {},
     "output_type": "execute_result"
    }
   ],
   "source": [
    "dog.lin_similarity(puppy, semcor_ic)"
   ]
  },
  {
   "cell_type": "code",
   "execution_count": 16,
   "metadata": {},
   "outputs": [
    {
     "data": {
      "text/plain": [
       "0.8050787631927111"
      ]
     },
     "execution_count": 16,
     "metadata": {},
     "output_type": "execute_result"
    }
   ],
   "source": [
    "dog.lin_similarity(puppy, brown_ic)"
   ]
  },
  {
   "cell_type": "markdown",
   "metadata": {},
   "source": [
    "# Quiz 2"
   ]
  },
  {
   "cell_type": "markdown",
   "metadata": {},
   "source": [
    "### Question 1\n",
    "Which of the following is not included in WordNet:\n",
    "\n",
    "\n",
    "Sense of a word\n",
    "\n",
    "\n",
    "Derivationally related forms\n",
    "\n",
    "\n",
    "**Pronunciation**\n",
    "\n",
    "\n",
    "Synonyms"
   ]
  },
  {
   "cell_type": "markdown",
   "metadata": {},
   "source": [
    "### Question 2\n",
    "If the shortest distance between words A and B in the WordNet hierarchy is 6, the path-based similarity measure PathSim(A,B) would be:\n",
    "\n",
    "\n",
    "6\n",
    "\n",
    "\n",
    "1/6 = 0.167\n",
    "\n",
    "\n",
    "1 - 1/5 = 5/6 = 0.833\n",
    "\n",
    "\n",
    "**1/(6+1) = 1/7 = 0.143**"
   ]
  },
  {
   "cell_type": "markdown",
   "metadata": {},
   "source": [
    "### Question 3\n",
    "When computing the similarity between words C and D, the distributional similarity based metric gives a higher score than a path-based similarity measure. What can be inferred from this observation?\n",
    "\n",
    "\n",
    "Distributional Similarity-based measure is a better metric to compute similarity between C and D (because higher numbers are better)\n",
    "\n",
    "\n",
    "Path-based similarity measure is a better metric to compute similarity between C and D (because lower numbers are better)\n",
    "\n",
    "\n",
    "This cannot happen -- distributional similarity is always lower than path-based similarity.\n",
    "\n",
    "\n",
    "**Nothing can be inferred. The similarity values from different measures cannot be directly compared.**"
   ]
  },
  {
   "cell_type": "markdown",
   "metadata": {},
   "source": [
    "### Question 4\n",
    "Which of the following approaches can be used to recognize monetary values (like USD 100, JPY 1000, etc.)\n",
    "\n",
    "\n",
    "Building regular expressions\n",
    "\n",
    "\n",
    "Looking up entries in a list\n",
    "\n",
    "\n",
    "Checking if something is capitalized or title cased\n",
    "\n",
    "\n",
    "**All of the above**"
   ]
  },
  {
   "cell_type": "markdown",
   "metadata": {},
   "source": [
    "### Question 5\n",
    "Which of the following is not given as input for a topic modeling setup?\n",
    "\n",
    "\n",
    "Number of topics\n",
    "\n",
    "\n",
    "The document corpus\n",
    "\n",
    "\n",
    "**The topics**\n",
    "\n",
    "\n",
    "The topic modeling approach (LDA, PLSA, ...)"
   ]
  },
  {
   "cell_type": "code",
   "execution_count": null,
   "metadata": {},
   "outputs": [],
   "source": []
  }
 ],
 "metadata": {
  "kernelspec": {
   "display_name": "Python 3",
   "language": "python",
   "name": "python3"
  },
  "language_info": {
   "codemirror_mode": {
    "name": "ipython",
    "version": 3
   },
   "file_extension": ".py",
   "mimetype": "text/x-python",
   "name": "python",
   "nbconvert_exporter": "python",
   "pygments_lexer": "ipython3",
   "version": "3.6.6"
  }
 },
 "nbformat": 4,
 "nbformat_minor": 2
}
